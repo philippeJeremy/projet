{
 "cells": [
  {
   "cell_type": "code",
   "execution_count": 9,
   "metadata": {},
   "outputs": [],
   "source": [
    "import pandas as pd"
   ]
  },
  {
   "attachments": {},
   "cell_type": "markdown",
   "metadata": {},
   "source": [
    "## processing du Vin"
   ]
  },
  {
   "cell_type": "code",
   "execution_count": 10,
   "metadata": {},
   "outputs": [],
   "source": [
    "vin = pd.read_json(\"../projet/scraping/vins.json\")\n",
    "vin = vin.apply(pd.Series.explode)\n",
    "vinfg = pd.read_csv(\"vinfg.csv\",sep=\";\")\n"
   ]
  },
  {
   "cell_type": "code",
   "execution_count": 12,
   "metadata": {},
   "outputs": [],
   "source": [
    "vin[\"vin\"] = vin[\"vin\"].apply(lambda x : x.replace(\"\\n\", \"\"))\n",
    "vin[\"vin\"] = vin[\"vin\"].apply(lambda x : x.replace(\"\\t\", \"\"))\n",
    "vin[\"vin\"] = vin[\"vin\"].apply(lambda x : x.replace(\"\\r\", \"\"))\n",
    "vin[\"region\"] = vin[\"region\"].apply(lambda x : x.replace(\"\\n\", \"\"))\n",
    "vin[\"region\"] = vin[\"region\"].apply(lambda x : x.replace(\"\\t\", \"\"))\n",
    "vin[\"region\"] = vin[\"region\"].apply(lambda x : x.replace(\"\\r\", \"\"))\n",
    "vin[\"region\"] = vin[\"region\"].apply(lambda x : x.replace(\" \", \"\"))\n",
    "vin[\"type\"] = vin[\"type\"].apply(lambda x : x.replace(\"images/verrevin\", \"\"))\n",
    "vin[\"type\"] = vin[\"type\"].apply(lambda x : x.replace(\".jpg\", \"\"))\n",
    "\n",
    "vin = vin[(vin['target'] != \"Salades\") & (vin['target'] != \"Soupes\")]\n",
    "\n",
    "vin = pd.concat([vin, vinfg],ignore_index=True)\n",
    "\n",
    "vin.to_csv(\"vins.csv\", index=False)\n"
   ]
  },
  {
   "cell_type": "code",
   "execution_count": 13,
   "metadata": {},
   "outputs": [
    {
     "data": {
      "text/plain": [
       "Foie gras           41\n",
       "Fromages            40\n",
       "Viandes rouges      40\n",
       "Abats               40\n",
       "Apéritif            40\n",
       "Charcuteries        40\n",
       "Desserts            40\n",
       "Fruits de mer       40\n",
       "Gibiers             40\n",
       "Légumes             40\n",
       "Pâtes               40\n",
       "Poissons            40\n",
       "Lapin               40\n",
       "Oeuf                40\n",
       "Viandes blanches    40\n",
       "Entrée              40\n",
       "Name: target, dtype: int64"
      ]
     },
     "execution_count": 13,
     "metadata": {},
     "output_type": "execute_result"
    }
   ],
   "source": [
    "vin['target'].value_counts()"
   ]
  },
  {
   "attachments": {},
   "cell_type": "markdown",
   "metadata": {},
   "source": [
    "## processing du Plat"
   ]
  },
  {
   "cell_type": "code",
   "execution_count": 50,
   "metadata": {},
   "outputs": [],
   "source": [
    "plat = pd.read_json(\"../projet/scraping/plats.json\")\n",
    "plat = plat.apply(pd.Series.explode)"
   ]
  },
  {
   "cell_type": "code",
   "execution_count": 51,
   "metadata": {},
   "outputs": [],
   "source": [
    "plat.dropna(inplace=True)\n",
    "plat[\"target\"] = plat[\"target\"].apply(lambda x : x.replace(\"\\n\", \"\"))\n",
    "plat[\"target\"] = plat[\"target\"].apply(lambda x : x.replace(\"\\t\", \"\"))\n",
    "plat[\"target\"] = plat[\"target\"].apply(lambda x : x.replace(\"\\r\", \"\"))\n",
    "plat[\"target\"] = plat[\"target\"].apply(lambda x : x.replace(\"Recettes\", \"\"))\n",
    "plat[\"target\"] = plat[\"target\"].apply(lambda x : x.replace(\" \", \"\"))"
   ]
  },
  {
   "attachments": {},
   "cell_type": "markdown",
   "metadata": {},
   "source": [
    "## processing de la Recette"
   ]
  },
  {
   "cell_type": "code",
   "execution_count": 52,
   "metadata": {},
   "outputs": [],
   "source": [
    "recette = pd.read_json(\"../projet/scraping/recettes.json\")"
   ]
  },
  {
   "cell_type": "code",
   "execution_count": 53,
   "metadata": {},
   "outputs": [],
   "source": [
    "recette[\"recette\"] = recette[\"recette\"][0][0]\n",
    "recette[\"recette\"] = recette[\"recette\"].apply(lambda x : x.replace('<meta property=\"og:description\" content=\"',\"\"))\n",
    "recette[\"recette\"] = recette[\"recette\"].apply(lambda x : x.replace('\">',\"\"))"
   ]
  },
  {
   "attachments": {},
   "cell_type": "markdown",
   "metadata": {},
   "source": [
    "## Creation de la data final et preprocessing"
   ]
  },
  {
   "cell_type": "code",
   "execution_count": 54,
   "metadata": {},
   "outputs": [],
   "source": [
    "data_final = plat.drop(columns=[\"url\"])\n",
    "data_final[\"recettes\"] = recette[\"recette\"]"
   ]
  },
  {
   "cell_type": "code",
   "execution_count": 55,
   "metadata": {},
   "outputs": [
    {
     "data": {
      "text/plain": [
       "viande                   1470\n",
       "pâtes,riz,semoule        1470\n",
       "fruitsdemer              1470\n",
       "gâteau                   1470\n",
       "tarte                    1470\n",
       "entréechaude             1470\n",
       "apéritifdînatoire        1239\n",
       "poisson                  1004\n",
       "bouchéeouamuse-bouche     843\n",
       "abats                     792\n",
       "dessertauchocolat         605\n",
       "crème                     576\n",
       "dessertglacé              518\n",
       "œufs                      391\n",
       "platvégétarien            345\n",
       "andouilette                48\n",
       "Name: target, dtype: int64"
      ]
     },
     "execution_count": 55,
     "metadata": {},
     "output_type": "execute_result"
    }
   ],
   "source": [
    "data_final[\"plat\"] = data_final[\"plat\"].apply(lambda x : x.lower())\n",
    "data_final[\"target\"].value_counts()"
   ]
  },
  {
   "cell_type": "code",
   "execution_count": 56,
   "metadata": {},
   "outputs": [],
   "source": [
    "# mask pour modif catégorie\n",
    "newdf = data_final[(data_final['target'] == \"viande\")]"
   ]
  },
  {
   "cell_type": "code",
   "execution_count": 57,
   "metadata": {},
   "outputs": [
    {
     "name": "stderr",
     "output_type": "stream",
     "text": [
      "/var/folders/vy/2hn6syqn6zqcc4mkycbvh5240000gn/T/ipykernel_5316/111799085.py:1: SettingWithCopyWarning: \n",
      "A value is trying to be set on a copy of a slice from a DataFrame.\n",
      "Try using .loc[row_indexer,col_indexer] = value instead\n",
      "\n",
      "See the caveats in the documentation: https://pandas.pydata.org/pandas-docs/stable/user_guide/indexing.html#returning-a-view-versus-a-copy\n",
      "  newdf[\"target\"] = newdf[\"plat\"].apply(lambda x : \"Viandes blanches\" if \"poulet\" in x\n"
     ]
    }
   ],
   "source": [
    "newdf[\"target\"] = newdf[\"plat\"].apply(lambda x : \"Viandes blanches\" if \"poulet\" in x \n",
    "                                                        else \"Viandes rouges\" if \"boeuf\" in x \n",
    "                                                        else \"Lapin\" if \"lapin\" in x\n",
    "                                                        else \"Viandes blanches\" if \"porc\" in x\n",
    "                                                        else \"Viandes blanches\" if \"dinde\" in x\n",
    "                                                        else \"Viandes rouges\" if \"cheval\" in x \n",
    "                                                        else \"Viandes rouges\" if \"agneau\" in x \n",
    "                                                        else \"Viandes rouges\" if \"boeuf\" in x \n",
    "                                                        else \"Viandes rouges\" if \"chèvre\" in x \n",
    "                                                        else \"Viandes rouges\" if \"veau\" in x \n",
    "                                                        else \"Abats\" if \"boudin\" in x\n",
    "                                                        else \"Viandes rouges\" if \"bœuf\" in x\n",
    "                                                        else \"Viandes blanches\" if \"canard\" in x\n",
    "                                                        else \"Viandes blanches\" if \"cannette\" in x\n",
    "                                                        else \"Viandes blanches\" if \"chapon\" in x\n",
    "                                                        else \"Viandes blanches\" if \"porc\" in x\n",
    "                                                        else \"Viandes blanches\" if \"coq\" in x\n",
    "                                                        else \"Viandes blanches\" if \"porc\" in x\n",
    "                                                        else \"Viandes blanches\" if \"porc\" in x\n",
    "                                                        else \"Charcuteries\" if \"saucisses\" in x\n",
    "                                                        else \"Charcuteries\" if \"saucisse\" in x\n",
    "                                                        else \"Charcuteries\" if \"dog\" in x\n",
    "                                                        else \"Charcuteries\" if \"knackis\" in x\n",
    "                                                        else \"Charcuteries\" if \"knacki\" in x\n",
    "                                                        else \"Viandes rouges\" if \"kebab\" in x\n",
    "                                                        else \"Viandes rouges\" if \"rosbeef\" in x\n",
    "                                                        else \"Viandes blanches\" if \"escalopes\" in x\n",
    "                                                        else \"Viandes blanches\" if \"poule\" in x\n",
    "                                                        else \"Gibiers\" if \"sanglier\" in x\n",
    "                                                        else \"Gibiers\" if \"cerf\" in x\n",
    "                                                        else \"Gibiers\" if \"faisan\" in x\n",
    "                                                        else \"Gibiers\" if \"pintade\" in x\n",
    "                                                        else \"Viandes blanches\" if \"filet mignon\" in x\n",
    "                                                        else \"Viandes rouges\" if \"tartare\" in x \n",
    "                                                        else \"Viandes rouges\" if \"steak\" in x \n",
    "                                                        else \"Charcuteries\" if \"chorizo\" in x \n",
    "                                                        else \"Viandes rouges\" if \"daube\" in x \n",
    "                                                        else \"Abats\" if \"andouillette\" in x \n",
    "                                                        else \"Viandes rouges\" if \"burger\" in x \n",
    "                                                        else \"Viandes rouges\" if \"collier\" in x \n",
    "                                                        else \"Viandes rouges\" if \"basses côtes\" in x \n",
    "                                                        else \"Viandes rouges\" if \"faux filet \" in x \n",
    "                                                        else \"Viandes rouges\" if \"filet de bœuf\" in x \n",
    "                                                        else \"Viandes rouges\" if \"fumsteck\" in x \n",
    "                                                        else \"Viandes rouges\" if \"queue de bœuf\" in x \n",
    "                                                        else \"Viandes rouges\" if \"bavette\" in x \n",
    "                                                        else \"Viandes rouges\" if \"paleron\" in x \n",
    "                                                        else \"Viandes rouges\" if \"tournedos\" in x \n",
    "                                                        else \"Viandes rouges\" if \"piece du boucher\" in x\n",
    "                                                        else \"Viandes rouges\" if \"rôti\" in x\n",
    "                                                        else \"Viandes rouges\" if \"boulettes\" in x\n",
    "                                                        else \"Abats\" if \"tripes\" in x\n",
    "                                                        else \"Viandes blanches\" if \"chicken\" in x  \n",
    "                                                        else \"Gibiers\" if \"chevreuil\" in x\n",
    "                                                        else \"Viandes blanches\" if \"grenouille\" in x\n",
    "                                                        else \"Viandes rouges\" if \"kefta\" in x\n",
    "                                                        else \"Foie gras\" if \"foie gras\" in x\n",
    "                                                        else \"Poissons\" if \"poisson\" in x\n",
    "                                                        else \"Viandes rouges\" if \"gigot\" in x\n",
    "                                                        else \"Viandes blanches\" if \"magret\" in x\n",
    "                                                        else \"Poissons\" if \"lotte\" in x\n",
    "                                                        else \"Poissons\" if \"thon\" in x\n",
    "                                                        else \"Charcuteries\" if \"petit salé\" in x\n",
    "                                                        else \"Poissons\" if \"saumon\" in x\n",
    "                                                        else \"Viandes blanches\" if \"volaille\" in x\n",
    "                                                        else \"Poissons\" if \"d'espadon\" in x\n",
    "                                                        else \"Viandes blanches\" if \"cailles\" in x\n",
    "                                                        else \"Charcuteries\" if \"merguez\" in x\n",
    "                                                        else \"Viandes blanches\" if \"tenders\" in x  \n",
    "                                                        else \"Viandes blanches\" if \"oie\" in x\n",
    "                                                        else \"Viandes rouges\" if \"steack\" in x\n",
    "                                                        else \"Viandes rouges\" if \"hachée\" in x\n",
    "                                                        else \"Viandes blanches\" if \"osso buco\" in x\n",
    "                                                        else \"Viandes blanches\" if \"osso bucco\" in x\n",
    "                                                        else \"Viandes blanches\" if \"paupiettes\" in x\n",
    "                                                        else \"Viandes blanches\" if \"bourguignon\" in x\n",
    "                                                        else \"NAN\") "
   ]
  },
  {
   "cell_type": "code",
   "execution_count": 58,
   "metadata": {},
   "outputs": [
    {
     "name": "stderr",
     "output_type": "stream",
     "text": [
      "/var/folders/vy/2hn6syqn6zqcc4mkycbvh5240000gn/T/ipykernel_5316/2288055356.py:3: FutureWarning: The frame.append method is deprecated and will be removed from pandas in a future version. Use pandas.concat instead.\n",
      "  data_final = data_final.append(newdf)\n"
     ]
    }
   ],
   "source": [
    "data_final = data_final[data_final[\"target\"] != \"viande\"]\n",
    "newdf = newdf[newdf[\"target\"] != \"NAN\"]\n",
    "data_final = data_final.append(newdf)"
   ]
  },
  {
   "cell_type": "code",
   "execution_count": 59,
   "metadata": {},
   "outputs": [],
   "source": [
    "data_final[\"target\"] = data_final[\"target\"].apply(lambda x : \"Entrée\" if \"entréechaude\" in x \n",
    "                                                        else \"Fruits de mer\" if \"fruitsdemer\" in x \n",
    "                                                        else \"Pâtes\" if \"pâtes,riz,semoule\" in x\n",
    "                                                        else \"Desserts\" if \"gâteau\" in x\n",
    "                                                        else \"Entrée\" if \"apéritifdînatoire\" in x\n",
    "                                                        else \"Poissons\" if \"poisson\" in x\n",
    "                                                        else \"Apéritif\" if \"bouchéeouamuse-bouche\" in x\n",
    "                                                        else \"Abats\" if \"abats\" in x\n",
    "                                                        else \"Desserts\" if \"dessertauchocolat\" in x\n",
    "                                                        else \"Desserts\" if \"crème\" in x\n",
    "                                                        else \"Desserts\" if \"dessertglacé\" in x\n",
    "                                                        else \"Viandes blanches\" if \"Viandes blanches\" in x\n",
    "                                                        else \"Légumes\" if \"platvégétarien\" in x\n",
    "                                                        else \"Viandes rouges\" if \"Viandes rouges\" in x\n",
    "                                                        else \"Poissons\" if \"Poissons\" in x\n",
    "                                                        else \"Foie gras\" if \"Foie gras\" in x\n",
    "                                                        else \"Gibiers\" if \"Gibiers\" in x\n",
    "                                                        else \"Lapin\" if \"Lapin\" in x\n",
    "                                                        else \"Desserts\" if \"tarte\" in x\n",
    "                                                        else \"Abats\" if \"andouilette\" in x\n",
    "                                                        else x)"
   ]
  },
  {
   "cell_type": "code",
   "execution_count": 60,
   "metadata": {},
   "outputs": [
    {
     "data": {
      "text/plain": [
       "Desserts            4639\n",
       "Entrée              2709\n",
       "Pâtes               1470\n",
       "Fruits de mer       1470\n",
       "Poissons            1038\n",
       "Abats                874\n",
       "Apéritif             843\n",
       "Viandes blanches     775\n",
       "œufs                 391\n",
       "Légumes              345\n",
       "Viandes rouges       335\n",
       "Charcuteries          65\n",
       "Foie gras             65\n",
       "Gibiers               58\n",
       "Lapin                 41\n",
       "Name: target, dtype: int64"
      ]
     },
     "execution_count": 60,
     "metadata": {},
     "output_type": "execute_result"
    }
   ],
   "source": [
    "data_final[\"target\"].value_counts()"
   ]
  },
  {
   "attachments": {},
   "cell_type": "markdown",
   "metadata": {},
   "source": [
    "## Rajout de données"
   ]
  },
  {
   "cell_type": "code",
   "execution_count": 61,
   "metadata": {},
   "outputs": [
    {
     "name": "stderr",
     "output_type": "stream",
     "text": [
      "/var/folders/vy/2hn6syqn6zqcc4mkycbvh5240000gn/T/ipykernel_5316/2435817769.py:3: FutureWarning: The frame.append method is deprecated and will be removed from pandas in a future version. Use pandas.concat instead.\n",
      "  data_final = data_final.append(charcuterie)\n"
     ]
    }
   ],
   "source": [
    "charcuterie = pd.read_csv(\"charcuterie.csv\", sep=\";\", header=None, names=[\"target\", \"plat\"])\n",
    "charcuterie[\"recettes\"] = charcuterie[\"plat\"]\n",
    "data_final = data_final.append(charcuterie)\n",
    "\n",
    "data_final.to_csv(\"data_final.csv\", index=False)"
   ]
  },
  {
   "cell_type": "code",
   "execution_count": 62,
   "metadata": {},
   "outputs": [
    {
     "data": {
      "text/plain": [
       "Desserts            4639\n",
       "Entrée              2709\n",
       "Fruits de mer       1470\n",
       "Pâtes               1470\n",
       "Poissons            1038\n",
       "Abats                874\n",
       "Apéritif             843\n",
       "Viandes blanches     775\n",
       "Charcuterie          555\n",
       "œufs                 391\n",
       "Légumes              345\n",
       "Viandes rouges       335\n",
       "Fromages             124\n",
       "Charcuteries          65\n",
       "Foie gras             65\n",
       "Gibiers               58\n",
       "Lapin                 41\n",
       "Name: target, dtype: int64"
      ]
     },
     "execution_count": 62,
     "metadata": {},
     "output_type": "execute_result"
    }
   ],
   "source": [
    "data_final['target'].value_counts()"
   ]
  },
  {
   "cell_type": "code",
   "execution_count": 63,
   "metadata": {},
   "outputs": [],
   "source": [
    "data_final[\"target\"] = data_final[\"target\"].apply(lambda x : \"Charcuteries\" if \"Charcuterie\" in x else x)"
   ]
  },
  {
   "cell_type": "code",
   "execution_count": 64,
   "metadata": {},
   "outputs": [
    {
     "data": {
      "text/plain": [
       "Desserts            4639\n",
       "Entrée              2709\n",
       "Pâtes               1470\n",
       "Fruits de mer       1470\n",
       "Poissons            1038\n",
       "Abats                874\n",
       "Apéritif             843\n",
       "Viandes blanches     775\n",
       "Charcuteries         620\n",
       "œufs                 391\n",
       "Légumes              345\n",
       "Viandes rouges       335\n",
       "Fromages             124\n",
       "Foie gras             65\n",
       "Gibiers               58\n",
       "Lapin                 41\n",
       "Name: target, dtype: int64"
      ]
     },
     "execution_count": 64,
     "metadata": {},
     "output_type": "execute_result"
    }
   ],
   "source": [
    "data_final['target'].value_counts()"
   ]
  },
  {
   "cell_type": "code",
   "execution_count": null,
   "metadata": {},
   "outputs": [],
   "source": []
  }
 ],
 "metadata": {
  "kernelspec": {
   "display_name": "Python 3",
   "language": "python",
   "name": "python3"
  },
  "language_info": {
   "codemirror_mode": {
    "name": "ipython",
    "version": 3
   },
   "file_extension": ".py",
   "mimetype": "text/x-python",
   "name": "python",
   "nbconvert_exporter": "python",
   "pygments_lexer": "ipython3",
   "version": "3.10.2"
  },
  "orig_nbformat": 4,
  "vscode": {
   "interpreter": {
    "hash": "23e0aedb6d47e040503db7fcf09a0dff3cea72eb7d5d4c2596a602b1504b448c"
   }
  }
 },
 "nbformat": 4,
 "nbformat_minor": 2
}
