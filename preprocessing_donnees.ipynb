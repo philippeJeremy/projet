{
 "cells": [
  {
   "cell_type": "code",
   "execution_count": 34,
   "metadata": {},
   "outputs": [],
   "source": [
    "import pandas as pd"
   ]
  },
  {
   "attachments": {},
   "cell_type": "markdown",
   "metadata": {},
   "source": [
    "## processing du Vin"
   ]
  },
  {
   "cell_type": "code",
   "execution_count": 35,
   "metadata": {},
   "outputs": [],
   "source": [
    "vin = pd.read_json(\"../projet/scraping/vin.json\")\n",
    "vin = vin.apply(pd.Series.explode)"
   ]
  },
  {
   "cell_type": "code",
   "execution_count": 36,
   "metadata": {},
   "outputs": [],
   "source": [
    "vin[\"vin\"] = vin[\"vin\"].apply(lambda x : x.replace(\"\\n\", \"\"))\n",
    "vin[\"vin\"] = vin[\"vin\"].apply(lambda x : x.replace(\"\\t\", \"\"))\n",
    "vin[\"vin\"] = vin[\"vin\"].apply(lambda x : x.replace(\"\\r\", \"\"))\n",
    "vin[\"region\"] = vin[\"region\"].apply(lambda x : x.replace(\"\\n\", \"\"))\n",
    "vin[\"region\"] = vin[\"region\"].apply(lambda x : x.replace(\"\\t\", \"\"))\n",
    "vin[\"region\"] = vin[\"region\"].apply(lambda x : x.replace(\"\\r\", \"\"))\n",
    "vin[\"region\"] = vin[\"region\"].apply(lambda x : x.replace(\" \", \"\"))\n",
    "vin[\"type\"] = vin[\"type\"].apply(lambda x : x.replace(\"images/verrevin\", \"\"))\n",
    "vin[\"type\"] = vin[\"type\"].apply(lambda x : x.replace(\".jpg\", \"\"))\n",
    "\n",
    "vin.to_csv(\"vins.csv\", index=False)\n"
   ]
  },
  {
   "attachments": {},
   "cell_type": "markdown",
   "metadata": {},
   "source": [
    "## processing du Plat"
   ]
  },
  {
   "cell_type": "code",
   "execution_count": 37,
   "metadata": {},
   "outputs": [],
   "source": [
    "plat = pd.read_json(\"../projet/scraping/plats.json\")\n",
    "plat = plat.apply(pd.Series.explode)"
   ]
  },
  {
   "cell_type": "code",
   "execution_count": 38,
   "metadata": {},
   "outputs": [],
   "source": [
    "plat.dropna(inplace=True)\n",
    "plat[\"target\"] = plat[\"target\"].apply(lambda x : x.replace(\"\\n\", \"\"))\n",
    "plat[\"target\"] = plat[\"target\"].apply(lambda x : x.replace(\"\\t\", \"\"))\n",
    "plat[\"target\"] = plat[\"target\"].apply(lambda x : x.replace(\"\\r\", \"\"))\n",
    "plat[\"target\"] = plat[\"target\"].apply(lambda x : x.replace(\"Recettes\", \"\"))\n",
    "plat[\"target\"] = plat[\"target\"].apply(lambda x : x.replace(\" \", \"\"))"
   ]
  },
  {
   "attachments": {},
   "cell_type": "markdown",
   "metadata": {},
   "source": [
    "## processing de la Recette"
   ]
  },
  {
   "cell_type": "code",
   "execution_count": 39,
   "metadata": {},
   "outputs": [],
   "source": [
    "recette = pd.read_json(\"../projet/scraping/recettes.json\")"
   ]
  },
  {
   "cell_type": "code",
   "execution_count": 40,
   "metadata": {},
   "outputs": [],
   "source": [
    "recette[\"recette\"] = recette[\"recette\"][0][0]\n",
    "recette[\"recette\"] = recette[\"recette\"].apply(lambda x : x.replace('<meta property=\"og:description\" content=\"',\"\"))\n",
    "recette[\"recette\"] = recette[\"recette\"].apply(lambda x : x.replace('\">',\"\"))"
   ]
  },
  {
   "attachments": {},
   "cell_type": "markdown",
   "metadata": {},
   "source": [
    "## Creation de la data final et preprocessing"
   ]
  },
  {
   "cell_type": "code",
   "execution_count": 41,
   "metadata": {},
   "outputs": [],
   "source": [
    "data_final = plat.drop(columns=[\"url\"])\n",
    "data_final[\"recettes\"] = recette[\"recette\"]"
   ]
  },
  {
   "cell_type": "code",
   "execution_count": 42,
   "metadata": {},
   "outputs": [
    {
     "data": {
      "text/plain": [
       "viande                   1470\n",
       "pâtes,riz,semoule        1470\n",
       "fruitsdemer              1470\n",
       "gâteau                   1470\n",
       "tarte                    1470\n",
       "entréechaude             1470\n",
       "apéritifdînatoire        1239\n",
       "poisson                  1004\n",
       "bouchéeouamuse-bouche     843\n",
       "abats                     792\n",
       "dessertauchocolat         605\n",
       "crème                     576\n",
       "dessertglacé              518\n",
       "œufs                      391\n",
       "platvégétarien            345\n",
       "andouilette                48\n",
       "Name: target, dtype: int64"
      ]
     },
     "execution_count": 42,
     "metadata": {},
     "output_type": "execute_result"
    }
   ],
   "source": [
    "data_final[\"plat\"] = data_final[\"plat\"].apply(lambda x : x.lower())\n",
    "data_final[\"target\"].value_counts()"
   ]
  },
  {
   "cell_type": "code",
   "execution_count": 43,
   "metadata": {},
   "outputs": [],
   "source": [
    "# mask pour modif catégorie\n",
    "newdf = data_final[(data_final['target'] == \"viande\")]"
   ]
  },
  {
   "cell_type": "code",
   "execution_count": 44,
   "metadata": {},
   "outputs": [
    {
     "name": "stderr",
     "output_type": "stream",
     "text": [
      "C:\\Users\\jerem\\AppData\\Local\\Temp\\ipykernel_11972\\2768081753.py:1: SettingWithCopyWarning: \n",
      "A value is trying to be set on a copy of a slice from a DataFrame.\n",
      "Try using .loc[row_indexer,col_indexer] = value instead\n",
      "\n",
      "See the caveats in the documentation: https://pandas.pydata.org/pandas-docs/stable/user_guide/indexing.html#returning-a-view-versus-a-copy\n",
      "  newdf[\"target\"] = newdf[\"plat\"].apply(lambda x : \"Poulet\" if \"poulet\" in x\n"
     ]
    }
   ],
   "source": [
    "newdf[\"target\"] = newdf[\"plat\"].apply(lambda x : \"Poulet\" if \"poulet\" in x \n",
    "                                                        else \"Viandes rouges\" if \"boeuf\" in x \n",
    "                                                        else \"Lapin\" if \"lapin\" in x\n",
    "                                                        else \"Viandes blanches\" if \"porc\" in x\n",
    "                                                        else \"Viandes blanches\" if \"dinde\" in x\n",
    "                                                        else \"Viandes rouges\" if \"cheval\" in x \n",
    "                                                        else \"Viandes rouges\" if \"agneau\" in x \n",
    "                                                        else \"Viandes rouges\" if \"boeuf\" in x \n",
    "                                                        else \"Viandes rouges\" if \"chèvre\" in x \n",
    "                                                        else \"Viandes rouges\" if \"veau\" in x \n",
    "                                                        else \"Abats\" if \"boudin\" in x\n",
    "                                                        else \"Viandes rouges\" if \"bœuf\" in x\n",
    "                                                        else \"Viandes blanches\" if \"canard\" in x\n",
    "                                                        else \"Viandes blanches\" if \"cannette\" in x\n",
    "                                                        else \"Viandes blanches\" if \"chapon\" in x\n",
    "                                                        else \"Viandes blanches\" if \"porc\" in x\n",
    "                                                        else \"Viandes blanches\" if \"coq\" in x\n",
    "                                                        else \"Viandes blanches\" if \"porc\" in x\n",
    "                                                        else \"Viandes blanches\" if \"porc\" in x\n",
    "                                                        else \"Charcuteries\" if \"saucisses\" in x\n",
    "                                                        else \"Charcuteries\" if \"saucisse\" in x\n",
    "                                                        else \"Charcuteries\" if \"dog\" in x\n",
    "                                                        else \"Charcuteries\" if \"knackis\" in x\n",
    "                                                        else \"Charcuteries\" if \"knacki\" in x\n",
    "                                                        else \"Viandes rouges\" if \"kebab\" in x\n",
    "                                                        else \"Viandes rouges\" if \"rosbeef\" in x\n",
    "                                                        else \"Viandes blanches\" if \"escalopes\" in x\n",
    "                                                        else \"Poulet\" if \"poule\" in x\n",
    "                                                        else \"Gibiers\" if \"sanglier\" in x\n",
    "                                                        else \"Gibiers\" if \"cerf\" in x\n",
    "                                                        else \"Gibiers\" if \"faisan\" in x\n",
    "                                                        else \"Gibiers\" if \"pintade\" in x\n",
    "                                                        else \"Viandes blanche\" if \"filet mignon\" in x\n",
    "                                                        else \"Viandes rouges\" if \"tartare\" in x \n",
    "                                                        else \"Viandes rouges\" if \"steak\" in x \n",
    "                                                        else \"Charcuteries\" if \"chorizo\" in x \n",
    "                                                        else \"Viandes rouges\" if \"daube\" in x \n",
    "                                                        else \"Abats\" if \"andouillette\" in x \n",
    "                                                        else \"Viandes rouges\" if \"burger\" in x \n",
    "                                                        else \"Viandes rouges\" if \"collier\" in x \n",
    "                                                        else \"Viandes rouges\" if \"basses côtes\" in x \n",
    "                                                        else \"Viandes rouges\" if \"faux filet \" in x \n",
    "                                                        else \"Viandes rouges\" if \"filet de bœuf\" in x \n",
    "                                                        else \"Viandes rouges\" if \"fumsteck\" in x \n",
    "                                                        else \"Viandes rouges\" if \"queue de bœuf\" in x \n",
    "                                                        else \"Viandes rouges\" if \"bavette\" in x \n",
    "                                                        else \"Viandes rouges\" if \"paleron\" in x \n",
    "                                                        else \"Viandes rouges\" if \"tournedos\" in x \n",
    "                                                        else \"Viandes rouges\" if \"piece du boucher\" in x\n",
    "                                                        else \"Viandes rouges\" if \"rôti\" in x\n",
    "                                                        else \"Viandes rouges\" if \"boulettes\" in x\n",
    "                                                        else \"Abats\" if \"tripes\" in x\n",
    "                                                        else \"Poulet\" if \"chicken\" in x  \n",
    "                                                        else \"Gibiers\" if \"chevreuil\" in x\n",
    "                                                        else \"Viandes blanches\" if \"grenouille\" in x\n",
    "                                                        else \"Viandes rouges\" if \"kefta\" in x\n",
    "                                                        else \"Foie gras\" if \"foie gras\" in x\n",
    "                                                        else \"Poissons\" if \"poisson\" in x\n",
    "                                                        else \"Viandes rouges\" if \"gigot\" in x\n",
    "                                                        else \"Viandes blanches\" if \"magret\" in x\n",
    "                                                        else \"Poissons\" if \"lotte\" in x\n",
    "                                                        else \"Poissons\" if \"thon\" in x\n",
    "                                                        else \"Charcuteries\" if \"petit salé\" in x\n",
    "                                                        else \"Poissons\" if \"saumon\" in x\n",
    "                                                        else \"Poulet\" if \"volaille\" in x\n",
    "                                                        else \"Poissons\" if \"d'espadon\" in x\n",
    "                                                        else \"Viandes blanches\" if \"cailles\" in x\n",
    "                                                        else \"Charcuteries\" if \"merguez\" in x\n",
    "                                                        else \"Poulet\" if \"tenders\" in x  \n",
    "                                                        else \"Viandes blanches\" if \"oie\" in x\n",
    "                                                        else \"Viandes rouges\" if \"steack\" in x\n",
    "                                                        else \"Viandes rouges\" if \"hachée\" in x\n",
    "                                                        else \"Viandes blanches\" if \"osso buco\" in x\n",
    "                                                        else \"Viandes blanches\" if \"osso bucco\" in x\n",
    "                                                        else \"Viandes blanches\" if \"paupiettes\" in x\n",
    "                                                        else \"Viandes blanches\" if \"bourguignon\" in x\n",
    "                                                        else \"NAN\") "
   ]
  },
  {
   "cell_type": "code",
   "execution_count": 45,
   "metadata": {},
   "outputs": [],
   "source": [
    "data_final = data_final[data_final[\"target\"] != \"viande\"]\n",
    "newdf = newdf[newdf[\"target\"] != \"NAN\"]\n",
    "data_final = data_final.append(newdf)"
   ]
  },
  {
   "cell_type": "code",
   "execution_count": 48,
   "metadata": {},
   "outputs": [
    {
     "data": {
      "text/html": [
       "<div>\n",
       "<style scoped>\n",
       "    .dataframe tbody tr th:only-of-type {\n",
       "        vertical-align: middle;\n",
       "    }\n",
       "\n",
       "    .dataframe tbody tr th {\n",
       "        vertical-align: top;\n",
       "    }\n",
       "\n",
       "    .dataframe thead th {\n",
       "        text-align: right;\n",
       "    }\n",
       "</style>\n",
       "<table border=\"1\" class=\"dataframe\">\n",
       "  <thead>\n",
       "    <tr style=\"text-align: right;\">\n",
       "      <th></th>\n",
       "      <th>target</th>\n",
       "      <th>plat</th>\n",
       "      <th>recettes</th>\n",
       "    </tr>\n",
       "  </thead>\n",
       "  <tbody>\n",
       "    <tr>\n",
       "      <th>0</th>\n",
       "      <td>apéritifdînatoire</td>\n",
       "      <td>cake salé rapide et facile</td>\n",
       "      <td>farine, levure chimique, huile d'olive, beurre...</td>\n",
       "    </tr>\n",
       "    <tr>\n",
       "      <th>0</th>\n",
       "      <td>apéritifdînatoire</td>\n",
       "      <td>houmous (purée de pois chiches)</td>\n",
       "      <td>farine, levure chimique, huile d'olive, beurre...</td>\n",
       "    </tr>\n",
       "    <tr>\n",
       "      <th>0</th>\n",
       "      <td>apéritifdînatoire</td>\n",
       "      <td>guacamole très facile</td>\n",
       "      <td>farine, levure chimique, huile d'olive, beurre...</td>\n",
       "    </tr>\n",
       "    <tr>\n",
       "      <th>0</th>\n",
       "      <td>apéritifdînatoire</td>\n",
       "      <td>caviar d'aubergines</td>\n",
       "      <td>farine, levure chimique, huile d'olive, beurre...</td>\n",
       "    </tr>\n",
       "    <tr>\n",
       "      <th>0</th>\n",
       "      <td>apéritifdînatoire</td>\n",
       "      <td>cake salé au jambon et aux olives</td>\n",
       "      <td>farine, levure chimique, huile d'olive, beurre...</td>\n",
       "    </tr>\n",
       "    <tr>\n",
       "      <th>...</th>\n",
       "      <td>...</td>\n",
       "      <td>...</td>\n",
       "      <td>...</td>\n",
       "    </tr>\n",
       "    <tr>\n",
       "      <th>770</th>\n",
       "      <td>Poulet</td>\n",
       "      <td>poulet au fromage blanc</td>\n",
       "      <td>farine, levure chimique, huile d'olive, beurre...</td>\n",
       "    </tr>\n",
       "    <tr>\n",
       "      <th>770</th>\n",
       "      <td>Poulet</td>\n",
       "      <td>poulet rôti à l'orientale</td>\n",
       "      <td>farine, levure chimique, huile d'olive, beurre...</td>\n",
       "    </tr>\n",
       "    <tr>\n",
       "      <th>770</th>\n",
       "      <td>Poulet</td>\n",
       "      <td>poulet tandoori au lait de coco ultra facile</td>\n",
       "      <td>farine, levure chimique, huile d'olive, beurre...</td>\n",
       "    </tr>\n",
       "    <tr>\n",
       "      <th>770</th>\n",
       "      <td>Abats</td>\n",
       "      <td>boudin en papillotes</td>\n",
       "      <td>farine, levure chimique, huile d'olive, beurre...</td>\n",
       "    </tr>\n",
       "    <tr>\n",
       "      <th>770</th>\n",
       "      <td>Viandes rouges</td>\n",
       "      <td>boulettes de boeuf à l'ananas gerdilien (recet...</td>\n",
       "      <td>farine, levure chimique, huile d'olive, beurre...</td>\n",
       "    </tr>\n",
       "  </tbody>\n",
       "</table>\n",
       "<p>15118 rows × 3 columns</p>\n",
       "</div>"
      ],
      "text/plain": [
       "                target                                               plat  \\\n",
       "0    apéritifdînatoire                         cake salé rapide et facile   \n",
       "0    apéritifdînatoire                    houmous (purée de pois chiches)   \n",
       "0    apéritifdînatoire                              guacamole très facile   \n",
       "0    apéritifdînatoire                                caviar d'aubergines   \n",
       "0    apéritifdînatoire                  cake salé au jambon et aux olives   \n",
       "..                 ...                                                ...   \n",
       "770             Poulet                            poulet au fromage blanc   \n",
       "770             Poulet                          poulet rôti à l'orientale   \n",
       "770             Poulet       poulet tandoori au lait de coco ultra facile   \n",
       "770              Abats                               boudin en papillotes   \n",
       "770     Viandes rouges  boulettes de boeuf à l'ananas gerdilien (recet...   \n",
       "\n",
       "                                              recettes  \n",
       "0    farine, levure chimique, huile d'olive, beurre...  \n",
       "0    farine, levure chimique, huile d'olive, beurre...  \n",
       "0    farine, levure chimique, huile d'olive, beurre...  \n",
       "0    farine, levure chimique, huile d'olive, beurre...  \n",
       "0    farine, levure chimique, huile d'olive, beurre...  \n",
       "..                                                 ...  \n",
       "770  farine, levure chimique, huile d'olive, beurre...  \n",
       "770  farine, levure chimique, huile d'olive, beurre...  \n",
       "770  farine, levure chimique, huile d'olive, beurre...  \n",
       "770  farine, levure chimique, huile d'olive, beurre...  \n",
       "770  farine, levure chimique, huile d'olive, beurre...  \n",
       "\n",
       "[15118 rows x 3 columns]"
      ]
     },
     "execution_count": 48,
     "metadata": {},
     "output_type": "execute_result"
    }
   ],
   "source": [
    "data_final"
   ]
  },
  {
   "attachments": {},
   "cell_type": "markdown",
   "metadata": {},
   "source": [
    "## Rajout de données"
   ]
  },
  {
   "cell_type": "code",
   "execution_count": 49,
   "metadata": {},
   "outputs": [],
   "source": [
    "charcuterie = pd.read_csv(\"charcuterie.csv\", sep=\";\", header=None, names=[\"target\", \"plat\"])\n",
    "charcuterie[\"recettes\"] = charcuterie[\"plat\"]\n",
    "data_final = data_final.append(charcuterie)\n",
    "\n",
    "data_final.to_csv(\"data_final.csv\", index=False)"
   ]
  },
  {
   "cell_type": "code",
   "execution_count": 52,
   "metadata": {},
   "outputs": [
    {
     "data": {
      "text/html": [
       "<div>\n",
       "<style scoped>\n",
       "    .dataframe tbody tr th:only-of-type {\n",
       "        vertical-align: middle;\n",
       "    }\n",
       "\n",
       "    .dataframe tbody tr th {\n",
       "        vertical-align: top;\n",
       "    }\n",
       "\n",
       "    .dataframe thead th {\n",
       "        text-align: right;\n",
       "    }\n",
       "</style>\n",
       "<table border=\"1\" class=\"dataframe\">\n",
       "  <thead>\n",
       "    <tr style=\"text-align: right;\">\n",
       "      <th></th>\n",
       "      <th>target</th>\n",
       "      <th>plat</th>\n",
       "      <th>recettes</th>\n",
       "    </tr>\n",
       "  </thead>\n",
       "  <tbody>\n",
       "    <tr>\n",
       "      <th>0</th>\n",
       "      <td>apéritifdînatoire</td>\n",
       "      <td>cake salé rapide et facile</td>\n",
       "      <td>farine, levure chimique, huile d'olive, beurre...</td>\n",
       "    </tr>\n",
       "    <tr>\n",
       "      <th>0</th>\n",
       "      <td>apéritifdînatoire</td>\n",
       "      <td>houmous (purée de pois chiches)</td>\n",
       "      <td>farine, levure chimique, huile d'olive, beurre...</td>\n",
       "    </tr>\n",
       "    <tr>\n",
       "      <th>0</th>\n",
       "      <td>apéritifdînatoire</td>\n",
       "      <td>guacamole très facile</td>\n",
       "      <td>farine, levure chimique, huile d'olive, beurre...</td>\n",
       "    </tr>\n",
       "    <tr>\n",
       "      <th>0</th>\n",
       "      <td>apéritifdînatoire</td>\n",
       "      <td>caviar d'aubergines</td>\n",
       "      <td>farine, levure chimique, huile d'olive, beurre...</td>\n",
       "    </tr>\n",
       "    <tr>\n",
       "      <th>0</th>\n",
       "      <td>apéritifdînatoire</td>\n",
       "      <td>cake salé au jambon et aux olives</td>\n",
       "      <td>farine, levure chimique, huile d'olive, beurre...</td>\n",
       "    </tr>\n",
       "    <tr>\n",
       "      <th>...</th>\n",
       "      <td>...</td>\n",
       "      <td>...</td>\n",
       "      <td>...</td>\n",
       "    </tr>\n",
       "    <tr>\n",
       "      <th>674</th>\n",
       "      <td>Fromages</td>\n",
       "      <td>Emmental de Savoie</td>\n",
       "      <td>Emmental de Savoie</td>\n",
       "    </tr>\n",
       "    <tr>\n",
       "      <th>675</th>\n",
       "      <td>Fromages</td>\n",
       "      <td>Gruyère français</td>\n",
       "      <td>Gruyère français</td>\n",
       "    </tr>\n",
       "    <tr>\n",
       "      <th>676</th>\n",
       "      <td>Fromages</td>\n",
       "      <td>Gruyère français</td>\n",
       "      <td>Gruyère français</td>\n",
       "    </tr>\n",
       "    <tr>\n",
       "      <th>677</th>\n",
       "      <td>Fromages</td>\n",
       "      <td>Brie de Nangis</td>\n",
       "      <td>Brie de Nangis</td>\n",
       "    </tr>\n",
       "    <tr>\n",
       "      <th>678</th>\n",
       "      <td>Fromages</td>\n",
       "      <td>Pont-l'évêque</td>\n",
       "      <td>Pont-l'évêque</td>\n",
       "    </tr>\n",
       "  </tbody>\n",
       "</table>\n",
       "<p>15797 rows × 3 columns</p>\n",
       "</div>"
      ],
      "text/plain": [
       "                target                               plat  \\\n",
       "0    apéritifdînatoire         cake salé rapide et facile   \n",
       "0    apéritifdînatoire    houmous (purée de pois chiches)   \n",
       "0    apéritifdînatoire              guacamole très facile   \n",
       "0    apéritifdînatoire                caviar d'aubergines   \n",
       "0    apéritifdînatoire  cake salé au jambon et aux olives   \n",
       "..                 ...                                ...   \n",
       "674           Fromages                 Emmental de Savoie   \n",
       "675           Fromages                   Gruyère français   \n",
       "676           Fromages                   Gruyère français   \n",
       "677           Fromages                     Brie de Nangis   \n",
       "678           Fromages                      Pont-l'évêque   \n",
       "\n",
       "                                              recettes  \n",
       "0    farine, levure chimique, huile d'olive, beurre...  \n",
       "0    farine, levure chimique, huile d'olive, beurre...  \n",
       "0    farine, levure chimique, huile d'olive, beurre...  \n",
       "0    farine, levure chimique, huile d'olive, beurre...  \n",
       "0    farine, levure chimique, huile d'olive, beurre...  \n",
       "..                                                 ...  \n",
       "674                                 Emmental de Savoie  \n",
       "675                                   Gruyère français  \n",
       "676                                   Gruyère français  \n",
       "677                                     Brie de Nangis  \n",
       "678                                      Pont-l'évêque  \n",
       "\n",
       "[15797 rows x 3 columns]"
      ]
     },
     "execution_count": 52,
     "metadata": {},
     "output_type": "execute_result"
    }
   ],
   "source": [
    "data_final"
   ]
  }
 ],
 "metadata": {
  "kernelspec": {
   "display_name": "Python 3",
   "language": "python",
   "name": "python3"
  },
  "language_info": {
   "codemirror_mode": {
    "name": "ipython",
    "version": 3
   },
   "file_extension": ".py",
   "mimetype": "text/x-python",
   "name": "python",
   "nbconvert_exporter": "python",
   "pygments_lexer": "ipython3",
   "version": "3.10.2"
  },
  "orig_nbformat": 4,
  "vscode": {
   "interpreter": {
    "hash": "23e0aedb6d47e040503db7fcf09a0dff3cea72eb7d5d4c2596a602b1504b448c"
   }
  }
 },
 "nbformat": 4,
 "nbformat_minor": 2
}
