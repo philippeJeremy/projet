{
 "cells": [
  {
   "cell_type": "code",
   "execution_count": 147,
   "metadata": {},
   "outputs": [],
   "source": [
    "import pandas as pd"
   ]
  },
  {
   "attachments": {},
   "cell_type": "markdown",
   "metadata": {},
   "source": [
    "## processing du Plat"
   ]
  },
  {
   "cell_type": "code",
   "execution_count": 148,
   "metadata": {},
   "outputs": [
    {
     "data": {
      "text/html": [
       "<div>\n",
       "<style scoped>\n",
       "    .dataframe tbody tr th:only-of-type {\n",
       "        vertical-align: middle;\n",
       "    }\n",
       "\n",
       "    .dataframe tbody tr th {\n",
       "        vertical-align: top;\n",
       "    }\n",
       "\n",
       "    .dataframe thead th {\n",
       "        text-align: right;\n",
       "    }\n",
       "</style>\n",
       "<table border=\"1\" class=\"dataframe\">\n",
       "  <thead>\n",
       "    <tr style=\"text-align: right;\">\n",
       "      <th></th>\n",
       "      <th>target</th>\n",
       "      <th>plat</th>\n",
       "      <th>url</th>\n",
       "    </tr>\n",
       "  </thead>\n",
       "  <tbody>\n",
       "    <tr>\n",
       "      <th>0</th>\n",
       "      <td>\\n\\t\\t\\t\\tRecettes crème\\t\\t\\t</td>\n",
       "      <td>Crème anglaise réussie, onctueuse à souhait</td>\n",
       "      <td>https://www.marmiton.org/recettes/recette_crem...</td>\n",
       "    </tr>\n",
       "    <tr>\n",
       "      <th>0</th>\n",
       "      <td>\\n\\t\\t\\t\\tRecettes crème\\t\\t\\t</td>\n",
       "      <td>Crème pâtissière</td>\n",
       "      <td>https://www.marmiton.org/recettes/recette_crem...</td>\n",
       "    </tr>\n",
       "    <tr>\n",
       "      <th>0</th>\n",
       "      <td>\\n\\t\\t\\t\\tRecettes crème\\t\\t\\t</td>\n",
       "      <td>Panna cotta</td>\n",
       "      <td>https://www.marmiton.org/recettes/recette_pann...</td>\n",
       "    </tr>\n",
       "    <tr>\n",
       "      <th>0</th>\n",
       "      <td>\\n\\t\\t\\t\\tRecettes crème\\t\\t\\t</td>\n",
       "      <td>Crème brûlée</td>\n",
       "      <td>https://www.marmiton.org/recettes/recette_crem...</td>\n",
       "    </tr>\n",
       "    <tr>\n",
       "      <th>0</th>\n",
       "      <td>\\n\\t\\t\\t\\tRecettes crème\\t\\t\\t</td>\n",
       "      <td>Riz au lait de ma maman</td>\n",
       "      <td>https://www.marmiton.org/recettes/recette_riz-...</td>\n",
       "    </tr>\n",
       "  </tbody>\n",
       "</table>\n",
       "</div>"
      ],
      "text/plain": [
       "                           target  \\\n",
       "0  \\n\\t\\t\\t\\tRecettes crème\\t\\t\\t   \n",
       "0  \\n\\t\\t\\t\\tRecettes crème\\t\\t\\t   \n",
       "0  \\n\\t\\t\\t\\tRecettes crème\\t\\t\\t   \n",
       "0  \\n\\t\\t\\t\\tRecettes crème\\t\\t\\t   \n",
       "0  \\n\\t\\t\\t\\tRecettes crème\\t\\t\\t   \n",
       "\n",
       "                                          plat  \\\n",
       "0  Crème anglaise réussie, onctueuse à souhait   \n",
       "0                             Crème pâtissière   \n",
       "0                                  Panna cotta   \n",
       "0                                 Crème brûlée   \n",
       "0                      Riz au lait de ma maman   \n",
       "\n",
       "                                                 url  \n",
       "0  https://www.marmiton.org/recettes/recette_crem...  \n",
       "0  https://www.marmiton.org/recettes/recette_crem...  \n",
       "0  https://www.marmiton.org/recettes/recette_pann...  \n",
       "0  https://www.marmiton.org/recettes/recette_crem...  \n",
       "0  https://www.marmiton.org/recettes/recette_riz-...  "
      ]
     },
     "execution_count": 148,
     "metadata": {},
     "output_type": "execute_result"
    }
   ],
   "source": [
    "plat = pd.read_json(\"plats_plus.json\")\n",
    "plat = plat.apply(pd.Series.explode)\n",
    "\n",
    "plat.head()"
   ]
  },
  {
   "cell_type": "code",
   "execution_count": 149,
   "metadata": {},
   "outputs": [],
   "source": [
    "plat.dropna(inplace=True)\n",
    "plat[\"target\"] = plat[\"target\"].apply(lambda x : x.replace(\"\\n\", \"\"))\n",
    "plat[\"target\"] = plat[\"target\"].apply(lambda x : x.replace(\"\\t\", \"\"))\n",
    "plat[\"target\"] = plat[\"target\"].apply(lambda x : x.replace(\"\\r\", \"\"))\n",
    "plat[\"target\"] = plat[\"target\"].apply(lambda x : x.replace(\"Recettes\", \"\"))\n",
    "plat[\"target\"] = plat[\"target\"].apply(lambda x : x.replace(\" \", \"\"))"
   ]
  },
  {
   "cell_type": "code",
   "execution_count": 150,
   "metadata": {},
   "outputs": [],
   "source": [
    "plat.to_csv(\"plats.csv\", index=False)"
   ]
  },
  {
   "attachments": {},
   "cell_type": "markdown",
   "metadata": {},
   "source": [
    "## processing de la Recette"
   ]
  },
  {
   "cell_type": "code",
   "execution_count": 151,
   "metadata": {},
   "outputs": [],
   "source": [
    "recette = pd.read_json(\"recettes_plus.json\")"
   ]
  },
  {
   "cell_type": "code",
   "execution_count": 152,
   "metadata": {},
   "outputs": [],
   "source": [
    "recette[\"recette\"] = recette[\"recette\"][0][0]\n",
    "recette[\"recette\"] = recette[\"recette\"].apply(lambda x : x.replace('<meta property=\"og:description\" content=\"',\"\"))\n",
    "recette[\"recette\"] = recette[\"recette\"].apply(lambda x : x.replace('\">',\"\"))"
   ]
  },
  {
   "attachments": {},
   "cell_type": "markdown",
   "metadata": {},
   "source": [
    "## Creation de la data final et preprocessing"
   ]
  },
  {
   "cell_type": "code",
   "execution_count": 153,
   "metadata": {},
   "outputs": [],
   "source": [
    "data_plus = plat.drop(columns=[\"url\"])\n",
    "data_plus[\"recettes\"] = recette[\"recette\"]"
   ]
  },
  {
   "cell_type": "code",
   "execution_count": 154,
   "metadata": {},
   "outputs": [
    {
     "data": {
      "text/plain": [
       "tarte                    3152\n",
       "viande                   2970\n",
       "pâtes,riz,semoule        2970\n",
       "entréechaude             2668\n",
       "fruitsdemer              2411\n",
       "soupe                    2009\n",
       "apéritifdînatoire        1239\n",
       "dessertglacé             1036\n",
       "poisson                  1004\n",
       "bouchéeouamuse-bouche     843\n",
       "abats                     792\n",
       "platvégétarien            690\n",
       "crème                     576\n",
       "terrine,pâté              529\n",
       "œufs                      391\n",
       "autrescrudités            125\n",
       "andouilette                48\n",
       "Name: target, dtype: int64"
      ]
     },
     "execution_count": 154,
     "metadata": {},
     "output_type": "execute_result"
    }
   ],
   "source": [
    "data_plus[\"plat\"] = data_plus[\"plat\"].apply(lambda x : x.lower())\n",
    "data_plus[\"target\"].value_counts()"
   ]
  },
  {
   "cell_type": "code",
   "execution_count": 155,
   "metadata": {},
   "outputs": [],
   "source": [
    "# mask pour modif catégorie\n",
    "newdf = data_plus[(data_plus['target'] == \"viande\")]"
   ]
  },
  {
   "cell_type": "code",
   "execution_count": 156,
   "metadata": {},
   "outputs": [
    {
     "name": "stderr",
     "output_type": "stream",
     "text": [
      "/var/folders/38/qp_mmpqs5_5fc3fgl0jc4_v40000gn/T/ipykernel_69325/2454046037.py:1: SettingWithCopyWarning: \n",
      "A value is trying to be set on a copy of a slice from a DataFrame.\n",
      "Try using .loc[row_indexer,col_indexer] = value instead\n",
      "\n",
      "See the caveats in the documentation: https://pandas.pydata.org/pandas-docs/stable/user_guide/indexing.html#returning-a-view-versus-a-copy\n",
      "  newdf[\"target\"] = newdf[\"plat\"].apply(lambda x : \"Viandes blanches\" if \"poulet\" in x\n"
     ]
    }
   ],
   "source": [
    "newdf[\"target\"] = newdf[\"plat\"].apply(lambda x : \"Viandes blanches\" if \"poulet\" in x \n",
    "                                                        else \"Viandes rouges\" if \"boeuf\" in x \n",
    "                                                        else \"Viandes blanches\" if \"lapin\" in x\n",
    "                                                        else \"Viandes blanches\" if \"porc\" in x\n",
    "                                                        else \"Viandes blanches\" if \"dinde\" in x\n",
    "                                                        else \"Viandes rouges\" if \"cheval\" in x \n",
    "                                                        else \"Viandes rouges\" if \"agneau\" in x \n",
    "                                                        else \"Viandes rouges\" if \"boeuf\" in x \n",
    "                                                        else \"Viandes rouges\" if \"chèvre\" in x \n",
    "                                                        else \"Viandes rouges\" if \"veau\" in x \n",
    "                                                        else \"Abats\" if \"boudin\" in x\n",
    "                                                        else \"Viandes rouges\" if \"bœuf\" in x\n",
    "                                                        else \"Viandes blanches\" if \"canard\" in x\n",
    "                                                        else \"Viandes blanches\" if \"cannette\" in x\n",
    "                                                        else \"Viandes blanches\" if \"chapon\" in x\n",
    "                                                        else \"Viandes blanches\" if \"porc\" in x\n",
    "                                                        else \"Viandes blanches\" if \"coq\" in x\n",
    "                                                        else \"Viandes blanches\" if \"porc\" in x\n",
    "                                                        else \"Viandes blanches\" if \"porc\" in x\n",
    "                                                        else \"Charcuteries\" if \"saucisses\" in x\n",
    "                                                        else \"Charcuteries\" if \"saucisse\" in x\n",
    "                                                        else \"Charcuteries\" if \"dog\" in x\n",
    "                                                        else \"Charcuteries\" if \"knackis\" in x\n",
    "                                                        else \"Charcuteries\" if \"knacki\" in x\n",
    "                                                        else \"Viandes rouges\" if \"kebab\" in x\n",
    "                                                        else \"Viandes rouges\" if \"rosbeef\" in x\n",
    "                                                        else \"Viandes blanches\" if \"escalopes\" in x\n",
    "                                                        else \"Viandes blanches\" if \"poule\" in x\n",
    "                                                        else \"Viandes rouges\" if \"sanglier\" in x\n",
    "                                                        else \"Viandes rouges\" if \"cerf\" in x\n",
    "                                                        else \"Viandes rouges\" if \"faisan\" in x\n",
    "                                                        else \"Viandes rouges\" if \"pintade\" in x\n",
    "                                                        else \"Viandes blanches\" if \"filet mignon\" in x\n",
    "                                                        else \"Viandes rouges\" if \"tartare\" in x \n",
    "                                                        else \"Viandes rouges\" if \"steak\" in x \n",
    "                                                        else \"Charcuteries\" if \"chorizo\" in x \n",
    "                                                        else \"Viandes rouges\" if \"daube\" in x \n",
    "                                                        else \"Abats\" if \"andouillette\" in x \n",
    "                                                        else \"Viandes rouges\" if \"burger\" in x \n",
    "                                                        else \"Viandes rouges\" if \"collier\" in x \n",
    "                                                        else \"Viandes rouges\" if \"basses côtes\" in x \n",
    "                                                        else \"Viandes rouges\" if \"faux filet \" in x \n",
    "                                                        else \"Viandes rouges\" if \"filet de bœuf\" in x \n",
    "                                                        else \"Viandes rouges\" if \"fumsteck\" in x \n",
    "                                                        else \"Viandes rouges\" if \"queue de bœuf\" in x \n",
    "                                                        else \"Viandes rouges\" if \"bavette\" in x \n",
    "                                                        else \"Viandes rouges\" if \"paleron\" in x \n",
    "                                                        else \"Viandes rouges\" if \"tournedos\" in x \n",
    "                                                        else \"Viandes rouges\" if \"piece du boucher\" in x\n",
    "                                                        else \"Viandes rouges\" if \"rôti\" in x\n",
    "                                                        else \"Viandes rouges\" if \"boulettes\" in x\n",
    "                                                        else \"Abats\" if \"tripes\" in x\n",
    "                                                        else \"Viandes blanches\" if \"chicken\" in x  \n",
    "                                                        else \"Viandes rouges\" if \"chevreuil\" in x\n",
    "                                                        else \"Viandes blanches\" if \"grenouille\" in x\n",
    "                                                        else \"Viandes rouges\" if \"kefta\" in x\n",
    "                                                        else \"Foie gras\" if \"foie gras\" in x\n",
    "                                                        else \"Poissons\" if \"poisson\" in x\n",
    "                                                        else \"Viandes rouges\" if \"gigot\" in x\n",
    "                                                        else \"Viandes blanches\" if \"magret\" in x\n",
    "                                                        else \"Poissons\" if \"lotte\" in x\n",
    "                                                        else \"Poissons\" if \"thon\" in x\n",
    "                                                        else \"Charcuteries\" if \"petit salé\" in x\n",
    "                                                        else \"Poissons\" if \"saumon\" in x\n",
    "                                                        else \"Viandes blanches\" if \"volaille\" in x\n",
    "                                                        else \"Poissons\" if \"d'espadon\" in x\n",
    "                                                        else \"Viandes blanches\" if \"cailles\" in x\n",
    "                                                        else \"Charcuteries\" if \"merguez\" in x\n",
    "                                                        else \"Viandes blanches\" if \"tenders\" in x  \n",
    "                                                        else \"Viandes blanches\" if \"oie\" in x\n",
    "                                                        else \"Viandes rouges\" if \"steack\" in x\n",
    "                                                        else \"Viandes rouges\" if \"hachée\" in x\n",
    "                                                        else \"Viandes blanches\" if \"osso buco\" in x\n",
    "                                                        else \"Viandes blanches\" if \"osso bucco\" in x\n",
    "                                                        else \"Viandes blanches\" if \"paupiettes\" in x\n",
    "                                                        else \"Viandes blanches\" if \"bourguignon\" in x\n",
    "                                                        else \"NAN\") "
   ]
  },
  {
   "cell_type": "code",
   "execution_count": 157,
   "metadata": {},
   "outputs": [
    {
     "name": "stderr",
     "output_type": "stream",
     "text": [
      "/var/folders/38/qp_mmpqs5_5fc3fgl0jc4_v40000gn/T/ipykernel_69325/3395631106.py:3: FutureWarning: The frame.append method is deprecated and will be removed from pandas in a future version. Use pandas.concat instead.\n",
      "  data_plus = data_plus.append(newdf)\n"
     ]
    }
   ],
   "source": [
    "data_plus = data_plus[data_plus[\"target\"] != \"viande\"]\n",
    "newdf = newdf[newdf[\"target\"] != \"NAN\"]\n",
    "data_plus = data_plus.append(newdf)"
   ]
  },
  {
   "cell_type": "code",
   "execution_count": 158,
   "metadata": {},
   "outputs": [],
   "source": [
    "data_plus[\"target\"] = data_plus[\"target\"].apply(lambda x : \"Légumes\" if \"soupe\" in x \n",
    "                                                        else \"Fruits de mer\" if \"fruitsdemer\" in x \n",
    "                                                        else \"Pâtes\" if \"pâtes,riz,semoule\" in x\n",
    "                                                        else \"Desserts\" if \"gâteau\" in x\n",
    "                                                        else \"Apéritif\" if \"apéritifdînatoire\" in x\n",
    "                                                        else \"Poissons\" if \"poisson\" in x\n",
    "                                                        else \"Apéritif\" if \"bouchéeouamuse-bouche\" in x\n",
    "                                                        else \"Abats\" if \"abats\" in x\n",
    "                                                        else \"Desserts\" if \"dessertauchocolat\" in x\n",
    "                                                        else \"Desserts\" if \"crème\" in x\n",
    "                                                        else \"Desserts\" if \"dessertglacé\" in x\n",
    "                                                        else \"Viandes blanches\" if \"Viandes blanches\" in x\n",
    "                                                        else \"Légumes\" if \"platvégétarien\" in x\n",
    "                                                        else \"Viandes rouges\" if \"Viandes rouges\" in x\n",
    "                                                        else \"Poissons\" if \"poisson\" in x\n",
    "                                                        else \"Foie gras\" if \"Foie gras\" in x\n",
    "                                                        else \"Gibiers\" if \"Gibiers\" in x\n",
    "                                                        else \"Lapin\" if \"Lapin\" in x\n",
    "                                                        else \"Desserts\" if \"tarte\" in x\n",
    "                                                        else \"Abats\" if \"andouilette\" in x\n",
    "                                                        else \"Charcuteries\" if \"terrine,pâté\" in x\n",
    "                                                        else \"Légumes\" if \"autrescrudités\" in x\n",
    "                                                        else x)"
   ]
  },
  {
   "cell_type": "code",
   "execution_count": 159,
   "metadata": {},
   "outputs": [],
   "source": [
    "mask = data_plus['target'] != 'entréechaude'\n",
    "data_plus = data_plus[mask]"
   ]
  },
  {
   "cell_type": "code",
   "execution_count": 160,
   "metadata": {},
   "outputs": [
    {
     "data": {
      "text/plain": [
       "Desserts            4764\n",
       "Pâtes               2970\n",
       "Légumes             2824\n",
       "Fruits de mer       2411\n",
       "Apéritif            2082\n",
       "Viandes blanches    1677\n",
       "Poissons            1050\n",
       "Abats                918\n",
       "Viandes rouges       725\n",
       "Charcuteries         666\n",
       "œufs                 391\n",
       "Foie gras            177\n",
       "Name: target, dtype: int64"
      ]
     },
     "execution_count": 160,
     "metadata": {},
     "output_type": "execute_result"
    }
   ],
   "source": [
    "data_plus[\"target\"].value_counts()"
   ]
  },
  {
   "attachments": {},
   "cell_type": "markdown",
   "metadata": {},
   "source": [
    "## Rajout de données"
   ]
  },
  {
   "cell_type": "code",
   "execution_count": 161,
   "metadata": {},
   "outputs": [
    {
     "name": "stderr",
     "output_type": "stream",
     "text": [
      "/var/folders/38/qp_mmpqs5_5fc3fgl0jc4_v40000gn/T/ipykernel_69325/2486508616.py:3: FutureWarning: The frame.append method is deprecated and will be removed from pandas in a future version. Use pandas.concat instead.\n",
      "  data_plus = data_plus.append(charcuterie)\n"
     ]
    }
   ],
   "source": [
    "charcuterie = pd.read_csv(\"charcuterie.csv\", sep=\";\", header=None, names=[\"target\", \"plat\"])\n",
    "charcuterie[\"recettes\"] = charcuterie[\"plat\"]\n",
    "data_plus = data_plus.append(charcuterie)\n"
   ]
  },
  {
   "cell_type": "code",
   "execution_count": null,
   "metadata": {},
   "outputs": [],
   "source": []
  },
  {
   "cell_type": "code",
   "execution_count": 162,
   "metadata": {},
   "outputs": [],
   "source": [
    "data_plus.to_csv(\"data_plus.csv\", index=False)"
   ]
  }
 ],
 "metadata": {
  "kernelspec": {
   "display_name": "base",
   "language": "python",
   "name": "python3"
  },
  "language_info": {
   "codemirror_mode": {
    "name": "ipython",
    "version": 3
   },
   "file_extension": ".py",
   "mimetype": "text/x-python",
   "name": "python",
   "nbconvert_exporter": "python",
   "pygments_lexer": "ipython3",
   "version": "3.9.12"
  },
  "orig_nbformat": 4,
  "vscode": {
   "interpreter": {
    "hash": "a4d33f735b5bc1716c8fc72440308505f4263435be6abde8d6dd6675ac56206b"
   }
  }
 },
 "nbformat": 4,
 "nbformat_minor": 2
}
