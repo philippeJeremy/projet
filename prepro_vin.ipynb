{
 "cells": [
  {
   "cell_type": "code",
   "execution_count": 1,
   "metadata": {},
   "outputs": [],
   "source": [
    "import pandas as pd"
   ]
  },
  {
   "cell_type": "code",
   "execution_count": 2,
   "metadata": {},
   "outputs": [],
   "source": [
    "df = pd.read_csv('vin.csv')"
   ]
  },
  {
   "cell_type": "code",
   "execution_count": null,
   "metadata": {},
   "outputs": [],
   "source": []
  },
  {
   "cell_type": "code",
   "execution_count": 3,
   "metadata": {},
   "outputs": [],
   "source": [
    "df.drop(columns=[\"Unnamed: 0\"], inplace=True)"
   ]
  },
  {
   "cell_type": "code",
   "execution_count": 4,
   "metadata": {},
   "outputs": [
    {
     "data": {
      "text/html": [
       "<div>\n",
       "<style scoped>\n",
       "    .dataframe tbody tr th:only-of-type {\n",
       "        vertical-align: middle;\n",
       "    }\n",
       "\n",
       "    .dataframe tbody tr th {\n",
       "        vertical-align: top;\n",
       "    }\n",
       "\n",
       "    .dataframe thead th {\n",
       "        text-align: right;\n",
       "    }\n",
       "</style>\n",
       "<table border=\"1\" class=\"dataframe\">\n",
       "  <thead>\n",
       "    <tr style=\"text-align: right;\">\n",
       "      <th></th>\n",
       "      <th>target</th>\n",
       "      <th>vin</th>\n",
       "      <th>type</th>\n",
       "      <th>region</th>\n",
       "    </tr>\n",
       "  </thead>\n",
       "  <tbody>\n",
       "    <tr>\n",
       "      <th>0</th>\n",
       "      <td>Fromages</td>\n",
       "      <td>Vacqueyras</td>\n",
       "      <td>Rouge</td>\n",
       "      <td>Rhône</td>\n",
       "    </tr>\n",
       "    <tr>\n",
       "      <th>1</th>\n",
       "      <td>Fromages</td>\n",
       "      <td>Côtes du Rhône</td>\n",
       "      <td>Rouge</td>\n",
       "      <td>Rhône</td>\n",
       "    </tr>\n",
       "    <tr>\n",
       "      <th>2</th>\n",
       "      <td>Fromages</td>\n",
       "      <td>Côtes du Rhône Villages</td>\n",
       "      <td>Rouge</td>\n",
       "      <td>Rhône</td>\n",
       "    </tr>\n",
       "    <tr>\n",
       "      <th>3</th>\n",
       "      <td>Fromages</td>\n",
       "      <td>Montagne Saint-Emilion</td>\n",
       "      <td>Rouge</td>\n",
       "      <td>Bordeaux</td>\n",
       "    </tr>\n",
       "    <tr>\n",
       "      <th>4</th>\n",
       "      <td>Fromages</td>\n",
       "      <td>Côtes du Luberon</td>\n",
       "      <td>Rouge</td>\n",
       "      <td>Rhône</td>\n",
       "    </tr>\n",
       "    <tr>\n",
       "      <th>...</th>\n",
       "      <td>...</td>\n",
       "      <td>...</td>\n",
       "      <td>...</td>\n",
       "      <td>...</td>\n",
       "    </tr>\n",
       "    <tr>\n",
       "      <th>654</th>\n",
       "      <td>Soupes</td>\n",
       "      <td>Vosne-romanée</td>\n",
       "      <td>Rouge</td>\n",
       "      <td>Bourgogne</td>\n",
       "    </tr>\n",
       "    <tr>\n",
       "      <th>655</th>\n",
       "      <td>Soupes</td>\n",
       "      <td>Alsace-grand cru Riesling</td>\n",
       "      <td>Blanc</td>\n",
       "      <td>Alsace</td>\n",
       "    </tr>\n",
       "    <tr>\n",
       "      <th>656</th>\n",
       "      <td>Soupes</td>\n",
       "      <td>Côtes du Roussillon villages</td>\n",
       "      <td>Rosé</td>\n",
       "      <td>Languedoc/Roussillon</td>\n",
       "    </tr>\n",
       "    <tr>\n",
       "      <th>657</th>\n",
       "      <td>Soupes</td>\n",
       "      <td>Côtes du Roussillon</td>\n",
       "      <td>Rosé</td>\n",
       "      <td>Languedoc/Roussillon</td>\n",
       "    </tr>\n",
       "    <tr>\n",
       "      <th>658</th>\n",
       "      <td>Soupes</td>\n",
       "      <td>Mâcon supérieur</td>\n",
       "      <td>Blanc</td>\n",
       "      <td>Bourgogne</td>\n",
       "    </tr>\n",
       "  </tbody>\n",
       "</table>\n",
       "<p>659 rows × 4 columns</p>\n",
       "</div>"
      ],
      "text/plain": [
       "       target                           vin   type                region\n",
       "0    Fromages                    Vacqueyras  Rouge                 Rhône\n",
       "1    Fromages                Côtes du Rhône  Rouge                 Rhône\n",
       "2    Fromages       Côtes du Rhône Villages  Rouge                 Rhône\n",
       "3    Fromages        Montagne Saint-Emilion  Rouge              Bordeaux\n",
       "4    Fromages              Côtes du Luberon  Rouge                 Rhône\n",
       "..        ...                           ...    ...                   ...\n",
       "654    Soupes                 Vosne-romanée  Rouge             Bourgogne\n",
       "655    Soupes     Alsace-grand cru Riesling  Blanc                Alsace\n",
       "656    Soupes  Côtes du Roussillon villages   Rosé  Languedoc/Roussillon\n",
       "657    Soupes           Côtes du Roussillon   Rosé  Languedoc/Roussillon\n",
       "658    Soupes               Mâcon supérieur  Blanc             Bourgogne\n",
       "\n",
       "[659 rows x 4 columns]"
      ]
     },
     "execution_count": 4,
     "metadata": {},
     "output_type": "execute_result"
    }
   ],
   "source": [
    "df"
   ]
  },
  {
   "cell_type": "code",
   "execution_count": 5,
   "metadata": {},
   "outputs": [
    {
     "data": {
      "text/plain": [
       "Fromages            40\n",
       "Poulet              40\n",
       "Viandes blanches    40\n",
       "Oeuf                40\n",
       "Lapin               40\n",
       "Poissons            40\n",
       "Pâtes               40\n",
       "Légumes             40\n",
       "Gibiers             40\n",
       "Fruits de mer       40\n",
       "Desserts            40\n",
       "Charcuteries        40\n",
       "Apéritif            40\n",
       "Abats               40\n",
       "Boeuf               40\n",
       "Soupes              40\n",
       "Salades             19\n",
       "Name: target, dtype: int64"
      ]
     },
     "execution_count": 5,
     "metadata": {},
     "output_type": "execute_result"
    }
   ],
   "source": [
    "df[\"target\"].value_counts()"
   ]
  }
 ],
 "metadata": {
  "kernelspec": {
   "display_name": "Python 3",
   "language": "python",
   "name": "python3"
  },
  "language_info": {
   "codemirror_mode": {
    "name": "ipython",
    "version": 3
   },
   "file_extension": ".py",
   "mimetype": "text/x-python",
   "name": "python",
   "nbconvert_exporter": "python",
   "pygments_lexer": "ipython3",
   "version": "3.10.2 (tags/v3.10.2:a58ebcc, Jan 17 2022, 14:12:15) [MSC v.1929 64 bit (AMD64)]"
  },
  "orig_nbformat": 4,
  "vscode": {
   "interpreter": {
    "hash": "23e0aedb6d47e040503db7fcf09a0dff3cea72eb7d5d4c2596a602b1504b448c"
   }
  }
 },
 "nbformat": 4,
 "nbformat_minor": 2
}
