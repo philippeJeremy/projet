{
 "cells": [
  {
   "cell_type": "code",
   "execution_count": 13,
   "metadata": {},
   "outputs": [],
   "source": [
    "import os\n",
    "import time\n",
    "import joblib\n",
    "import mlflow\n",
    "\n",
    "import numpy as np\n",
    "import pandas as pd\n",
    "\n",
    "#from dotenv import load_dotenv\n",
    "from sklearn.model_selection import train_test_split\n",
    "from mlflow.models.signature import infer_signature\n",
    "\n",
    "from sklearn.pipeline import Pipeline\n",
    "from sklearn.compose import ColumnTransformer\n",
    "from sklearn.linear_model import LinearRegression\n",
    "from sklearn.preprocessing import StandardScaler, OneHotEncoder, LabelEncoder"
   ]
  },
  {
   "cell_type": "code",
   "execution_count": 14,
   "metadata": {},
   "outputs": [
    {
     "name": "stdout",
     "output_type": "stream",
     "text": [
      "\u001b[38;5;2m✔ Download and installation successful\u001b[0m\n",
      "You can now load the package via spacy.load('fr_core_news_sm')\n"
     ]
    }
   ],
   "source": [
    "!python -m spacy download fr_core_news_sm -q"
   ]
  },
  {
   "cell_type": "code",
   "execution_count": 15,
   "metadata": {},
   "outputs": [],
   "source": [
    "# Import spacy and initialize french language\n",
    "import fr_core_news_sm\n",
    "nlp = fr_core_news_sm.load()"
   ]
  },
  {
   "cell_type": "code",
   "execution_count": 18,
   "metadata": {},
   "outputs": [
    {
     "data": {
      "text/html": [
       "<div>\n",
       "<style scoped>\n",
       "    .dataframe tbody tr th:only-of-type {\n",
       "        vertical-align: middle;\n",
       "    }\n",
       "\n",
       "    .dataframe tbody tr th {\n",
       "        vertical-align: top;\n",
       "    }\n",
       "\n",
       "    .dataframe thead th {\n",
       "        text-align: right;\n",
       "    }\n",
       "</style>\n",
       "<table border=\"1\" class=\"dataframe\">\n",
       "  <thead>\n",
       "    <tr style=\"text-align: right;\">\n",
       "      <th></th>\n",
       "      <th>target</th>\n",
       "      <th>plat</th>\n",
       "      <th>recettes</th>\n",
       "      <th>plat_recette</th>\n",
       "      <th>plat_clean</th>\n",
       "      <th>recettes_clean</th>\n",
       "    </tr>\n",
       "  </thead>\n",
       "  <tbody>\n",
       "    <tr>\n",
       "      <th>0</th>\n",
       "      <td>Desserts</td>\n",
       "      <td>crème anglaise réussie, onctueuse à souhait,</td>\n",
       "      <td>sucre, vanille, jaune oeuf, lait demi-écrémé, ...</td>\n",
       "      <td>crème anglaise réussie, onctueuse à souhait su...</td>\n",
       "      <td>crème anglaise onctueuse souhait</td>\n",
       "      <td>sucre vanille jaune oeuf lait demiécrémé maïzena</td>\n",
       "    </tr>\n",
       "    <tr>\n",
       "      <th>1</th>\n",
       "      <td>Desserts</td>\n",
       "      <td>crème pâtissière,</td>\n",
       "      <td>sucre, vanille, jaune oeuf, lait demi-écrémé, ...</td>\n",
       "      <td>crème pâtissière sucre, vanille, jaune d'oeuf,...</td>\n",
       "      <td>crème pâtissière</td>\n",
       "      <td>sucre vanille jaune oeuf lait demiécrémé maïzena</td>\n",
       "    </tr>\n",
       "    <tr>\n",
       "      <th>2</th>\n",
       "      <td>Desserts</td>\n",
       "      <td>panna cotta,</td>\n",
       "      <td>sucre, vanille, jaune oeuf, lait demi-écrémé, ...</td>\n",
       "      <td>panna cotta sucre, vanille, jaune d'oeuf, lait...</td>\n",
       "      <td>panna cotta</td>\n",
       "      <td>sucre vanille jaune oeuf lait demiécrémé maïzena</td>\n",
       "    </tr>\n",
       "    <tr>\n",
       "      <th>3</th>\n",
       "      <td>Desserts</td>\n",
       "      <td>crème brûlée,</td>\n",
       "      <td>sucre, vanille, jaune oeuf, lait demi-écrémé, ...</td>\n",
       "      <td>crème brûlée sucre, vanille, jaune d'oeuf, lai...</td>\n",
       "      <td>crème brûlée</td>\n",
       "      <td>sucre vanille jaune oeuf lait demiécrémé maïzena</td>\n",
       "    </tr>\n",
       "    <tr>\n",
       "      <th>4</th>\n",
       "      <td>Desserts</td>\n",
       "      <td>riz au lait de ma maman,</td>\n",
       "      <td>sucre, vanille, jaune oeuf, lait demi-écrémé, ...</td>\n",
       "      <td>riz au lait de ma maman sucre, vanille, jaune ...</td>\n",
       "      <td>riz lait</td>\n",
       "      <td>sucre vanille jaune oeuf lait demiécrémé maïzena</td>\n",
       "    </tr>\n",
       "  </tbody>\n",
       "</table>\n",
       "</div>"
      ],
      "text/plain": [
       "     target                                           plat  \\\n",
       "0  Desserts  crème anglaise réussie, onctueuse à souhait,    \n",
       "1  Desserts                             crème pâtissière,    \n",
       "2  Desserts                                  panna cotta,    \n",
       "3  Desserts                                 crème brûlée,    \n",
       "4  Desserts                      riz au lait de ma maman,    \n",
       "\n",
       "                                            recettes  \\\n",
       "0  sucre, vanille, jaune oeuf, lait demi-écrémé, ...   \n",
       "1  sucre, vanille, jaune oeuf, lait demi-écrémé, ...   \n",
       "2  sucre, vanille, jaune oeuf, lait demi-écrémé, ...   \n",
       "3  sucre, vanille, jaune oeuf, lait demi-écrémé, ...   \n",
       "4  sucre, vanille, jaune oeuf, lait demi-écrémé, ...   \n",
       "\n",
       "                                        plat_recette  \\\n",
       "0  crème anglaise réussie, onctueuse à souhait su...   \n",
       "1  crème pâtissière sucre, vanille, jaune d'oeuf,...   \n",
       "2  panna cotta sucre, vanille, jaune d'oeuf, lait...   \n",
       "3  crème brûlée sucre, vanille, jaune d'oeuf, lai...   \n",
       "4  riz au lait de ma maman sucre, vanille, jaune ...   \n",
       "\n",
       "                         plat_clean  \\\n",
       "0  crème anglaise onctueuse souhait   \n",
       "1                  crème pâtissière   \n",
       "2                       panna cotta   \n",
       "3                      crème brûlée   \n",
       "4                          riz lait   \n",
       "\n",
       "                                     recettes_clean  \n",
       "0  sucre vanille jaune oeuf lait demiécrémé maïzena  \n",
       "1  sucre vanille jaune oeuf lait demiécrémé maïzena  \n",
       "2  sucre vanille jaune oeuf lait demiécrémé maïzena  \n",
       "3  sucre vanille jaune oeuf lait demiécrémé maïzena  \n",
       "4  sucre vanille jaune oeuf lait demiécrémé maïzena  "
      ]
     },
     "execution_count": 18,
     "metadata": {},
     "output_type": "execute_result"
    }
   ],
   "source": [
    "from spacy.lang.fr.stop_words import STOP_WORDS\n",
    "\n",
    "df = pd.read_csv(\"./data_final.csv\")\n",
    "\n",
    "df['plat'] = df['plat'].apply(lambda x : x + ', ')\n",
    "\n",
    "nlp.Defaults.stop_words.add(\"facile\")\n",
    "nlp.Defaults.stop_words.add(\"rapide\")\n",
    "nlp.Defaults.stop_words.add(\"réussie\")\n",
    "nlp.Defaults.stop_words.add(\"maman\")\n",
    "\n",
    "df[\"plat\"] = df[\"plat\"].apply(lambda x: x.replace(\"d'\",\"\"))\n",
    "df[\"plat\"] = df[\"plat\"].apply(lambda x: x.replace(\"l'\",\"\"))\n",
    "df[\"recettes\"] = df[\"recettes\"].apply(lambda x: x.replace(\"d'\",\"\"))\n",
    "df[\"recettes\"] = df[\"recettes\"].apply(lambda x: x.replace(\"l'\",\"\"))\n",
    "\n",
    "df[\"plat_clean\"] = df[\"plat\"].apply(lambda x:''.join(ch for ch in x if ch.isalnum() or ch==\" \"))\n",
    "df[\"plat_clean\"] = df[\"plat_clean\"].apply(lambda x: x.replace(\" +\",\" \").lower().strip())\n",
    "df[\"plat_clean\"] = df[\"plat_clean\"].apply(lambda x: \" \".join(token.text for token in nlp(x) if token.text not in STOP_WORDS))\n",
    "\n",
    "df[\"recettes_clean\"] = df[\"recettes\"].apply(lambda x:''.join(ch for ch in x if ch.isalnum() or ch==\" \"))\n",
    "df[\"recettes_clean\"] = df[\"recettes_clean\"].apply(lambda x: x.replace(\" +\",\" \").lower().strip())\n",
    "df[\"recettes_clean\"] = df[\"recettes_clean\"].apply(lambda x: \" \".join(token.text for token in nlp(x) if token.text not in STOP_WORDS))\n",
    "\n",
    "df.head()"
   ]
  },
  {
   "cell_type": "code",
   "execution_count": 41,
   "metadata": {},
   "outputs": [],
   "source": [
    "X = df[['plat_clean', 'recettes_clean']]\n",
    "Y = df['target']"
   ]
  },
  {
   "cell_type": "code",
   "execution_count": 42,
   "metadata": {},
   "outputs": [],
   "source": [
    "X_train, X_test, Y_train, Y_test = train_test_split(X, Y, test_size=0.2, random_state=0, stratify = Y)"
   ]
  },
  {
   "cell_type": "code",
   "execution_count": 43,
   "metadata": {},
   "outputs": [
    {
     "data": {
      "text/html": [
       "<div>\n",
       "<style scoped>\n",
       "    .dataframe tbody tr th:only-of-type {\n",
       "        vertical-align: middle;\n",
       "    }\n",
       "\n",
       "    .dataframe tbody tr th {\n",
       "        vertical-align: top;\n",
       "    }\n",
       "\n",
       "    .dataframe thead th {\n",
       "        text-align: right;\n",
       "    }\n",
       "</style>\n",
       "<table border=\"1\" class=\"dataframe\">\n",
       "  <thead>\n",
       "    <tr style=\"text-align: right;\">\n",
       "      <th></th>\n",
       "      <th>plat_clean</th>\n",
       "      <th>recettes_clean</th>\n",
       "    </tr>\n",
       "  </thead>\n",
       "  <tbody>\n",
       "    <tr>\n",
       "      <th>7622</th>\n",
       "      <td>tarte carrés chocolat</td>\n",
       "      <td>sucre vanille jaune oeuf lait demiécrémé maïzena</td>\n",
       "    </tr>\n",
       "    <tr>\n",
       "      <th>15433</th>\n",
       "      <td>soupe crocodiles</td>\n",
       "      <td>sucre vanille jaune oeuf lait demiécrémé maïzena</td>\n",
       "    </tr>\n",
       "    <tr>\n",
       "      <th>14960</th>\n",
       "      <td>tarte vanillée brousse poires</td>\n",
       "      <td>sucre vanille jaune oeuf lait demiécrémé maïzena</td>\n",
       "    </tr>\n",
       "    <tr>\n",
       "      <th>11849</th>\n",
       "      <td>potage endives fenouil</td>\n",
       "      <td>sucre vanille jaune oeuf lait demiécrémé maïzena</td>\n",
       "    </tr>\n",
       "    <tr>\n",
       "      <th>3157</th>\n",
       "      <td>tarte chocolat noisettes</td>\n",
       "      <td>sucre vanille jaune oeuf lait demiécrémé maïzena</td>\n",
       "    </tr>\n",
       "    <tr>\n",
       "      <th>...</th>\n",
       "      <td>...</td>\n",
       "      <td>...</td>\n",
       "    </tr>\n",
       "    <tr>\n",
       "      <th>8864</th>\n",
       "      <td>bouchées artichaut petit violet foie gras</td>\n",
       "      <td>sucre vanille jaune oeuf lait demiécrémé maïzena</td>\n",
       "    </tr>\n",
       "    <tr>\n",
       "      <th>16131</th>\n",
       "      <td>velouté crémeux asperges vertes</td>\n",
       "      <td>sucre vanille jaune oeuf lait demiécrémé maïzena</td>\n",
       "    </tr>\n",
       "    <tr>\n",
       "      <th>1018</th>\n",
       "      <td>cake légumes soleil</td>\n",
       "      <td>sucre vanille jaune oeuf lait demiécrémé maïzena</td>\n",
       "    </tr>\n",
       "    <tr>\n",
       "      <th>15188</th>\n",
       "      <td>gratin crabe st jacques whisky</td>\n",
       "      <td>sucre vanille jaune oeuf lait demiécrémé maïzena</td>\n",
       "    </tr>\n",
       "    <tr>\n",
       "      <th>2432</th>\n",
       "      <td>poêlée brocolis choufleur comté cumin</td>\n",
       "      <td>sucre vanille jaune oeuf lait demiécrémé maïzena</td>\n",
       "    </tr>\n",
       "  </tbody>\n",
       "</table>\n",
       "<p>17067 rows × 2 columns</p>\n",
       "</div>"
      ],
      "text/plain": [
       "                                      plat_clean  \\\n",
       "7622                       tarte carrés chocolat   \n",
       "15433                           soupe crocodiles   \n",
       "14960              tarte vanillée brousse poires   \n",
       "11849                     potage endives fenouil   \n",
       "3157                    tarte chocolat noisettes   \n",
       "...                                          ...   \n",
       "8864   bouchées artichaut petit violet foie gras   \n",
       "16131            velouté crémeux asperges vertes   \n",
       "1018                         cake légumes soleil   \n",
       "15188             gratin crabe st jacques whisky   \n",
       "2432       poêlée brocolis choufleur comté cumin   \n",
       "\n",
       "                                         recettes_clean  \n",
       "7622   sucre vanille jaune oeuf lait demiécrémé maïzena  \n",
       "15433  sucre vanille jaune oeuf lait demiécrémé maïzena  \n",
       "14960  sucre vanille jaune oeuf lait demiécrémé maïzena  \n",
       "11849  sucre vanille jaune oeuf lait demiécrémé maïzena  \n",
       "3157   sucre vanille jaune oeuf lait demiécrémé maïzena  \n",
       "...                                                 ...  \n",
       "8864   sucre vanille jaune oeuf lait demiécrémé maïzena  \n",
       "16131  sucre vanille jaune oeuf lait demiécrémé maïzena  \n",
       "1018   sucre vanille jaune oeuf lait demiécrémé maïzena  \n",
       "15188  sucre vanille jaune oeuf lait demiécrémé maïzena  \n",
       "2432   sucre vanille jaune oeuf lait demiécrémé maïzena  \n",
       "\n",
       "[17067 rows x 2 columns]"
      ]
     },
     "execution_count": 43,
     "metadata": {},
     "output_type": "execute_result"
    }
   ],
   "source": [
    "X_train"
   ]
  },
  {
   "cell_type": "code",
   "execution_count": 44,
   "metadata": {},
   "outputs": [
    {
     "data": {
      "text/html": [
       "<div>\n",
       "<style scoped>\n",
       "    .dataframe tbody tr th:only-of-type {\n",
       "        vertical-align: middle;\n",
       "    }\n",
       "\n",
       "    .dataframe tbody tr th {\n",
       "        vertical-align: top;\n",
       "    }\n",
       "\n",
       "    .dataframe thead th {\n",
       "        text-align: right;\n",
       "    }\n",
       "</style>\n",
       "<table border=\"1\" class=\"dataframe\">\n",
       "  <thead>\n",
       "    <tr style=\"text-align: right;\">\n",
       "      <th></th>\n",
       "      <th>plat_clean</th>\n",
       "      <th>recettes_clean</th>\n",
       "    </tr>\n",
       "  </thead>\n",
       "  <tbody>\n",
       "    <tr>\n",
       "      <th>9900</th>\n",
       "      <td>tarte fraises speculoos petits lu</td>\n",
       "      <td>sucre vanille jaune oeuf lait demiécrémé maïzena</td>\n",
       "    </tr>\n",
       "    <tr>\n",
       "      <th>2840</th>\n",
       "      <td>tourin lail</td>\n",
       "      <td>sucre vanille jaune oeuf lait demiécrémé maïzena</td>\n",
       "    </tr>\n",
       "    <tr>\n",
       "      <th>374</th>\n",
       "      <td>filets saintpierre beurre orange</td>\n",
       "      <td>sucre vanille jaune oeuf lait demiécrémé maïzena</td>\n",
       "    </tr>\n",
       "    <tr>\n",
       "      <th>11357</th>\n",
       "      <td>tarte ananas séchés chocolatcaramel</td>\n",
       "      <td>sucre vanille jaune oeuf lait demiécrémé maïzena</td>\n",
       "    </tr>\n",
       "    <tr>\n",
       "      <th>18852</th>\n",
       "      <td>escalopes échalotes vin blanc</td>\n",
       "      <td>sucre vanille jaune oeuf lait demiécrémé maïzena</td>\n",
       "    </tr>\n",
       "    <tr>\n",
       "      <th>...</th>\n",
       "      <td>...</td>\n",
       "      <td>...</td>\n",
       "    </tr>\n",
       "    <tr>\n",
       "      <th>11111</th>\n",
       "      <td>cake chèvre menthe pignons</td>\n",
       "      <td>sucre vanille jaune oeuf lait demiécrémé maïzena</td>\n",
       "    </tr>\n",
       "    <tr>\n",
       "      <th>19832</th>\n",
       "      <td>pizza orient express   saucisses poivrons curry</td>\n",
       "      <td>sucre vanille jaune oeuf lait demiécrémé maïzena</td>\n",
       "    </tr>\n",
       "    <tr>\n",
       "      <th>6033</th>\n",
       "      <td>pâte feuilletée ultra simple petits suisses</td>\n",
       "      <td>sucre vanille jaune oeuf lait demiécrémé maïzena</td>\n",
       "    </tr>\n",
       "    <tr>\n",
       "      <th>13571</th>\n",
       "      <td>verrines tomate fromages</td>\n",
       "      <td>sucre vanille jaune oeuf lait demiécrémé maïzena</td>\n",
       "    </tr>\n",
       "    <tr>\n",
       "      <th>8674</th>\n",
       "      <td>soupe anglaise oignon</td>\n",
       "      <td>sucre vanille jaune oeuf lait demiécrémé maïzena</td>\n",
       "    </tr>\n",
       "  </tbody>\n",
       "</table>\n",
       "<p>4267 rows × 2 columns</p>\n",
       "</div>"
      ],
      "text/plain": [
       "                                            plat_clean  \\\n",
       "9900                 tarte fraises speculoos petits lu   \n",
       "2840                                       tourin lail   \n",
       "374                   filets saintpierre beurre orange   \n",
       "11357              tarte ananas séchés chocolatcaramel   \n",
       "18852                    escalopes échalotes vin blanc   \n",
       "...                                                ...   \n",
       "11111                       cake chèvre menthe pignons   \n",
       "19832  pizza orient express   saucisses poivrons curry   \n",
       "6033       pâte feuilletée ultra simple petits suisses   \n",
       "13571                         verrines tomate fromages   \n",
       "8674                             soupe anglaise oignon   \n",
       "\n",
       "                                         recettes_clean  \n",
       "9900   sucre vanille jaune oeuf lait demiécrémé maïzena  \n",
       "2840   sucre vanille jaune oeuf lait demiécrémé maïzena  \n",
       "374    sucre vanille jaune oeuf lait demiécrémé maïzena  \n",
       "11357  sucre vanille jaune oeuf lait demiécrémé maïzena  \n",
       "18852  sucre vanille jaune oeuf lait demiécrémé maïzena  \n",
       "...                                                 ...  \n",
       "11111  sucre vanille jaune oeuf lait demiécrémé maïzena  \n",
       "19832  sucre vanille jaune oeuf lait demiécrémé maïzena  \n",
       "6033   sucre vanille jaune oeuf lait demiécrémé maïzena  \n",
       "13571  sucre vanille jaune oeuf lait demiécrémé maïzena  \n",
       "8674   sucre vanille jaune oeuf lait demiécrémé maïzena  \n",
       "\n",
       "[4267 rows x 2 columns]"
      ]
     },
     "execution_count": 44,
     "metadata": {},
     "output_type": "execute_result"
    }
   ],
   "source": [
    "X_test"
   ]
  },
  {
   "cell_type": "code",
   "execution_count": 45,
   "metadata": {},
   "outputs": [
    {
     "name": "stderr",
     "output_type": "stream",
     "text": [
      "/opt/anaconda3/lib/python3.9/site-packages/sklearn/preprocessing/_encoders.py:170: UserWarning: Found unknown categories in columns [0, 1] during transform. These unknown categories will be encoded as all zeros\n",
      "  warnings.warn(\n"
     ]
    }
   ],
   "source": [
    "encoder = LabelEncoder()\n",
    "oneencoder = OneHotEncoder(drop=\"first\", handle_unknown = \"ignore\")\n",
    "\n",
    "X_train = oneencoder.fit_transform(X_train)\n",
    "Y_train = encoder.fit_transform(Y_train)\n",
    "X_test = oneencoder.transform(X_test)\n",
    "Y_test = encoder.transform(Y_test)"
   ]
  },
  {
   "attachments": {},
   "cell_type": "markdown",
   "metadata": {},
   "source": [
    "# Linear SVM"
   ]
  },
  {
   "cell_type": "code",
   "execution_count": 46,
   "metadata": {},
   "outputs": [],
   "source": [
    "from sklearn.tree import DecisionTreeClassifier\n",
    "from sklearn.svm import SVC\n",
    "from sklearn.model_selection import GridSearchCV\n",
    "from sklearn.metrics import accuracy_score, f1_score, ConfusionMatrixDisplay, RocCurveDisplay"
   ]
  },
  {
   "cell_type": "code",
   "execution_count": 57,
   "metadata": {},
   "outputs": [
    {
     "data": {
      "text/plain": [
       "SVC(kernel='poly', probability=True)"
      ]
     },
     "execution_count": 57,
     "metadata": {},
     "output_type": "execute_result"
    }
   ],
   "source": [
    "svc = SVC(kernel = 'poly', probability = True) # set probability to True if you plan to use predict_proba()\n",
    "\n",
    "svc.fit(X_train, Y_train)"
   ]
  },
  {
   "cell_type": "code",
   "execution_count": 58,
   "metadata": {},
   "outputs": [],
   "source": [
    "Y_train_pred = svc.predict(X_train)\n",
    "Y_train_proba = svc.predict_proba(X_train)\n",
    "\n",
    "Y_test_pred = svc.predict(X_test)\n",
    "Y_test_proba = svc.predict_proba(X_test)"
   ]
  },
  {
   "cell_type": "code",
   "execution_count": 59,
   "metadata": {},
   "outputs": [
    {
     "name": "stdout",
     "output_type": "stream",
     "text": [
      "accuracy on training set :  0.9871096267651023\n",
      "accuracy on test set :  0.407311928755566\n",
      "\n"
     ]
    }
   ],
   "source": [
    "# Print scores\n",
    "print(\"accuracy on training set : \", accuracy_score(Y_train, Y_train_pred))\n",
    "print(\"accuracy on test set : \", accuracy_score(Y_test, Y_test_pred))\n",
    "print()"
   ]
  },
  {
   "attachments": {},
   "cell_type": "markdown",
   "metadata": {},
   "source": [
    "# XGBOOST"
   ]
  },
  {
   "cell_type": "code",
   "execution_count": 62,
   "metadata": {},
   "outputs": [
    {
     "name": "stdout",
     "output_type": "stream",
     "text": [
      "Collecting xgboost\n",
      "  Downloading xgboost-1.7.3-py3-none-macosx_10_15_x86_64.macosx_11_0_x86_64.macosx_12_0_x86_64.whl (1.8 MB)\n",
      "\u001b[2K     \u001b[90m━━━━━━━━━━━━━━━━━━━━━━━━━━━━━━━━━━━━━━━━\u001b[0m \u001b[32m1.8/1.8 MB\u001b[0m \u001b[31m925.9 kB/s\u001b[0m eta \u001b[36m0:00:00\u001b[0m00:01\u001b[0m00:01\u001b[0m\n",
      "\u001b[?25hRequirement already satisfied: scipy in /opt/anaconda3/lib/python3.9/site-packages (from xgboost) (1.9.1)\n",
      "Requirement already satisfied: numpy in /opt/anaconda3/lib/python3.9/site-packages (from xgboost) (1.21.5)\n",
      "Installing collected packages: xgboost\n",
      "Successfully installed xgboost-1.7.3\n"
     ]
    }
   ],
   "source": [
    "!pip install xgboost"
   ]
  },
  {
   "cell_type": "code",
   "execution_count": 63,
   "metadata": {},
   "outputs": [
    {
     "name": "stdout",
     "output_type": "stream",
     "text": [
      "Grid search...\n",
      "{'max_depth': [2, 4, 6], 'min_child_weight': [1, 2, 3], 'n_estimators': [2, 4, 6, 8]}\n",
      "...Done.\n",
      "Best hyperparameters :  {'max_depth': 2, 'min_child_weight': 1, 'n_estimators': 8}\n",
      "Best validation accuracy :  0.24878420343352667\n",
      "\n",
      "Accuracy on training set :  0.24925294427843206\n",
      "Accuracy on test set :  0.25263651277243965\n"
     ]
    }
   ],
   "source": [
    "from xgboost import XGBClassifier\n",
    "\n",
    "# Perform grid search\n",
    "print(\"Grid search...\")\n",
    "xgboost = XGBClassifier()\n",
    "\n",
    "# Grid of values to be tested\n",
    "params = {\n",
    "    'max_depth': [2, 4, 6], # exactly the same role as in scikit-learn\n",
    "    'min_child_weight': [1, 2, 3], # effect is more or less similar to min_samples_leaf and min_samples_split\n",
    "    'n_estimators': [2, 4, 6, 8,] # exactly the same role as in scikit-learn\n",
    "}\n",
    "print(params)\n",
    "gridsearch = GridSearchCV(xgboost, param_grid = params, cv = 3) # cv : the number of folds to be used for CV\n",
    "gridsearch.fit(X_train, Y_train)\n",
    "print(\"...Done.\")\n",
    "print(\"Best hyperparameters : \", gridsearch.best_params_)\n",
    "print(\"Best validation accuracy : \", gridsearch.best_score_)\n",
    "print()\n",
    "print(\"Accuracy on training set : \", gridsearch.score(X_train, Y_train))\n",
    "print(\"Accuracy on test set : \", gridsearch.score(X_test, Y_test))\n"
   ]
  },
  {
   "cell_type": "code",
   "execution_count": 80,
   "metadata": {},
   "outputs": [],
   "source": [
    "from sklearn.neighbors import KNeighborsClassifier\n",
    "\n",
    "knn = KNeighborsClassifier(n_neighbors=5, weights='distance', algorithm='brute', leaf_size=50, p=1, metric='minkowski', metric_params=None, n_jobs=-1)\n",
    "\n",
    "knn.fit(X_train, Y_train)\n",
    "\n",
    "Y_train_pred = knn.predict(X_train)\n",
    "Y_train_proba = knn.predict_proba(X_train)\n",
    "\n",
    "Y_test_pred = knn.predict(X_test)\n",
    "Y_test_proba = knn.predict_proba(X_test)"
   ]
  },
  {
   "cell_type": "code",
   "execution_count": 81,
   "metadata": {},
   "outputs": [
    {
     "name": "stdout",
     "output_type": "stream",
     "text": [
      "accuracy on training set :  0.9898048866233081\n",
      "accuracy on test set :  0.4548863370049215\n",
      "\n"
     ]
    }
   ],
   "source": [
    "# Print scores\n",
    "print(\"accuracy on training set : \", accuracy_score(Y_train, Y_train_pred))\n",
    "print(\"accuracy on test set : \", accuracy_score(Y_test, Y_test_pred))\n",
    "print()"
   ]
  },
  {
   "cell_type": "code",
   "execution_count": null,
   "metadata": {},
   "outputs": [],
   "source": []
  }
 ],
 "metadata": {
  "kernelspec": {
   "display_name": "base",
   "language": "python",
   "name": "python3"
  },
  "language_info": {
   "codemirror_mode": {
    "name": "ipython",
    "version": 3
   },
   "file_extension": ".py",
   "mimetype": "text/x-python",
   "name": "python",
   "nbconvert_exporter": "python",
   "pygments_lexer": "ipython3",
   "version": "3.9.13"
  },
  "orig_nbformat": 4,
  "vscode": {
   "interpreter": {
    "hash": "40d3a090f54c6569ab1632332b64b2c03c39dcf918b08424e98f38b5ae0af88f"
   }
  }
 },
 "nbformat": 4,
 "nbformat_minor": 2
}
